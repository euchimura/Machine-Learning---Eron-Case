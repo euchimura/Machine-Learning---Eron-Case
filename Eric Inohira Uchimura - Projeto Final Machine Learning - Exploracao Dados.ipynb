{
 "cells": [
  {
   "cell_type": "markdown",
   "metadata": {},
   "source": [
    "# Projeto Final Nanodegree em Data Science para Negócios\n",
    "###### Eric Inohira Uchimura"
   ]
  },
  {
   "cell_type": "markdown",
   "metadata": {},
   "source": [
    "### Visão Geral\n"
   ]
  },
  {
   "cell_type": "markdown",
   "metadata": {},
   "source": [
    "Este estudo faz parte do projeto final para a finalização do curso em Data Science para Negócios ministrada pela Udacity.\n",
    "\n",
    "Objetivo deste estudo é construir utilizar algoritimos de Machine Learning (aprendizagem de máquina) para identificar pessoas de Interesse (POI) a partir dos emails que se tornaram publico devido ao escandalo da Eron.\n",
    "\n",
    "Este estudo é dividido em 4 etapas: \n",
    "1- Exploração dos dados\n",
    "2 - Processamentos das Features\n",
    "3 - Utilização  do Algoritimo de Machine Learning (ML)\n",
    "5 - Validação do algoritimo\n",
    "\n",
    "## Exploração dos Dados\n",
    "\n",
    "Para a exploração de dados, poderíamos transformar os dados fornecedidos em formato 'picke', fazer um script para transformá-lo em csv, carregá-lo no Rstudio e fazer a análise de dados igual ao projeto 2.\n",
    "Por vias de aprendizado, faremos a análise dos dados utilizando comandos do Python utilizando as bibliotecas gráficas já existentes na linguagem e que serão demonstrado ao longo deste estudo.\n",
    "Todas os comandos utilizados neste capitulo de exploração de dados foram utilizados o programa \"jupyter Notebook\" com compilador Python versão 2."
   ]
  },
  {
   "cell_type": "code",
   "execution_count": 2,
   "metadata": {
    "collapsed": true
   },
   "outputs": [],
   "source": [
    "#setando o diretório padrão\n",
    "import os\n",
    "os.chdir('C:/Users/eric.uchimura/OneDrive/Udacity/Python - ML/1/final_project/')"
   ]
  },
  {
   "cell_type": "code",
   "execution_count": 2,
   "metadata": {},
   "outputs": [
    {
     "name": "stderr",
     "output_type": "stream",
     "text": [
      "C:\\python27\\lib\\site-packages\\sklearn\\cross_validation.py:41: DeprecationWarning: This module was deprecated in version 0.18 in favor of the model_selection module into which all the refactored classes and functions are moved. Also note that the interface of the new CV iterators are different from that of this module. This module will be removed in 0.20.\n",
      "  \"This module will be removed in 0.20.\", DeprecationWarning)\n",
      "C:\\python27\\lib\\site-packages\\sklearn\\grid_search.py:42: DeprecationWarning: This module was deprecated in version 0.18 in favor of the model_selection module into which all the refactored classes and functions are moved. This module will be removed in 0.20.\n",
      "  DeprecationWarning)\n"
     ]
    }
   ],
   "source": [
    "from IPython.display import Image\n",
    "import matplotlib.pyplot as plt\n",
    "import sys\n",
    "sys.path.append(\"../tools/\")\n",
    "import pickle\n",
    "from sklearn import preprocessing\n",
    "from time import time\n",
    "from sklearn.naive_bayes import GaussianNB\n",
    "from sklearn.metrics import accuracy_score\n",
    "from sklearn.grid_search import GridSearchCV\n",
    "from sklearn.metrics import precision_score\n",
    "from sklearn.metrics import recall_score\n",
    "from feature_format import featureFormat\n",
    "from feature_format import targetFeatureSplit\n",
    "\n"
   ]
  },
  {
   "cell_type": "code",
   "execution_count": 4,
   "metadata": {
    "collapsed": true
   },
   "outputs": [],
   "source": [
    "### Task 1: Select what features you'll use.\n",
    "### features_list is a list of strings, each of which is a feature name.\n",
    "### The first feature must be \"poi\".\n",
    "features_list = [\"poi\"]\n",
    "\n",
    "### load the dictionary containing the dataset\n",
    "data_dict = pickle.load(open(\"final_project_dataset.pkl\", \"r\") )"
   ]
  },
  {
   "cell_type": "markdown",
   "metadata": {},
   "source": [
    "Após carregar o arquivo em uma variavel 'data_dict', vamos analisar como está estruturado essa variável"
   ]
  },
  {
   "cell_type": "code",
   "execution_count": 28,
   "metadata": {},
   "outputs": [
    {
     "name": "stdout",
     "output_type": "stream",
     "text": [
      "('Quantidade de Pessoas:  ', 146)\n"
     ]
    }
   ],
   "source": [
    "#Quantidade de pessoas\n",
    "print('Quantidade de Pessoas:  ',len(data_dict.keys()))"
   ]
  },
  {
   "cell_type": "code",
   "execution_count": 29,
   "metadata": {},
   "outputs": [
    {
     "name": "stdout",
     "output_type": "stream",
     "text": [
      "['salary', 'to_messages', 'deferral_payments', 'total_payments', 'exercised_stock_options', 'bonus', 'restricted_stock', 'shared_receipt_with_poi', 'restricted_stock_deferred', 'total_stock_value', 'expenses', 'loan_advances', 'from_messages', 'other', 'from_this_person_to_poi', 'poi', 'director_fees', 'deferred_income', 'long_term_incentive', 'email_address', 'from_poi_to_this_person']\n"
     ]
    }
   ],
   "source": [
    "# Lista os features da base\n",
    "print (data_dict['METTS MARK'].keys())"
   ]
  },
  {
   "cell_type": "code",
   "execution_count": 30,
   "metadata": {},
   "outputs": [
    {
     "name": "stdout",
     "output_type": "stream",
     "text": [
      "21\n"
     ]
    }
   ],
   "source": [
    "#quantidade de Features\n",
    "print (len(data_dict['METTS MARK']))"
   ]
  },
  {
   "cell_type": "code",
   "execution_count": 31,
   "metadata": {},
   "outputs": [
    {
     "data": {
      "text/plain": [
       "Text(0,0.5,u'Bonus')"
      ]
     },
     "execution_count": 31,
     "metadata": {},
     "output_type": "execute_result"
    },
    {
     "data": {
      "image/png": "[encoded data removed]",
      "text/plain": [
       "<matplotlib.figure.Figure at 0x7f6e5f0>"
      ]
     },
     "metadata": {},
     "output_type": "display_data"
    }
   ],
   "source": [
    "features = [\"salary\", \"bonus\"]\n",
    "#data_dict.pop('TOTAL', 0)\n",
    "data = featureFormat(data_dict, features)\n",
    "### plot features\n",
    "for point in data:\n",
    "    salary = point[0]\n",
    "    bonus = point[1]\n",
    "    plt.scatter( salary, bonus )\n",
    "\n",
    "plt.xlabel(\"Salario\")\n",
    "plt.ylabel(\"Bonus\")\n",
    "#plt.show()"
   ]
  },
  {
   "cell_type": "markdown",
   "metadata": {},
   "source": [
    "Verificamos pelo gráfico a presença de outliers que poderão influenciar a análise dos dados. \n",
    "Vamos percorrer os dados, retirar os valores 'nan', ordenar um vetor com o nome e salario e verificarmos os outliers"
   ]
  },
  {
   "cell_type": "code",
   "execution_count": 32,
   "metadata": {
    "scrolled": true
   },
   "outputs": [
    {
     "name": "stdout",
     "output_type": "stream",
     "text": [
      "[('TOTAL', 26704229), ('SKILLING JEFFREY K', 1111258), ('LAY KENNETH L', 1072321), ('FREVERT MARK A', 1060932), ('PICKERING MARK R', 655037), ('WHALLEY LAWRENCE G', 510364), ('DERRICK JR. JAMES V', 492375), ('FASTOW ANDREW S', 440698), ('SHERRIFF JOHN R', 428780), ('RICE KENNETH D', 420636), ('CAUSEY RICHARD A', 415189), ('KEAN STEVEN J', 404338), ('HAEDICKE MARK E', 374125), ('MCMAHON JEFFREY', 370448), ('METTS MARK', 365788), ('DELAINEY DAVID W', 365163), ('MCCONNELL MICHAEL S', 365038), ('WALLS JR ROBERT H', 357091), ('MARTIN AMANDA K', 349487), ('LAVORATO JOHN J', 339288), ('BUY RICHARD B', 330546), ('OLSON CINDY K', 329078), ('WHITE JR THOMAS E', 317543), ('COX DAVID', 314288), ('KOENIG MARK E', 309946), ('FALLON JAMES B', 304588), ('SHANKMAN JEFFREY A', 304110), ('UMANOFF ADAM S', 288589), ('JACKSON CHARLENE R', 288558), ('COLWELL WESLEY', 288542), ('BOWEN JR RAYMOND M', 278601), ('DONAHUE JR JEFFREY M', 278601), ('KAMINSKI WINCENTY J', 275101), ('GLISAN JR BEN F', 274975), ('LEFF DANIEL P', 273746), ('GOLD JOSEPH', 272880), ('KITCHEN LOUISE', 271442), ('SHAPIRO RICHARD S', 269076), ('BAXTER JOHN C', 267102), ('MORDAUNT KRISTINA M', 267093), ('TAYLOR MITCHELL S', 265214), ('MCCLELLAN GEORGE', 263413), ('DIMICHELE RICHARD G', 262788), ('HERMANN ROBERT J', 262663), ('PAI LOU L', 261879), ('CARTER REBECCA C', 261809), ('BUTTS ROBERT H', 261516), ('WASAFF GEORGE', 259996), ('SUNDE MARTIN', 257486), ('MULLER MARK S', 251654), ('DIETRICH JANET R', 250100), ('RIEKER PAULA H', 249201), ('BLACHMAN JEREMY M', 248546), ('SHARP VICTORIA T', 248146), ('BUCHANAN HAROLD G', 248017), ('TILNEY ELIZABETH A', 247338), ('HANNON KEVIN P', 243293), ('CALGER CHRISTOPHER F', 240189), ('BAY FRANKLIN R', 239671), ('STABLER FRANK', 239502), ('LINDHOLM TOD A', 236457), ('GARLAND C KEVIN', 231946), ('BECK SALLY W', 231330), ('MURRAY JULIA H', 229284), ('KOPPER MICHAEL J', 224305), ('THORN TERENCE H', 222093), ('DODSON KEITH', 221003), ('BERBERIAN DAVID', 216582), ('BELDEN TIMOTHY N', 213999), ('BIBI PHILIPPE A', 213625), ('SHELBY REX', 211844), ('HICKERSON GARY J', 211788), ('DURAN WILLIAM D', 210692), ('DETMERING TIMOTHY J', 210500), ('DEFFNER JOSEPH M', 206121), ('ALLEN PHILLIP K', 201955), ('FITZGERALD JAY L', 199157), ('PIPER GREGORY F', 197091), ('GAHN ROBERT S', 192008), ('BERGSIEKER RICHARD P', 187922), ('CUMBERLAND MICHAEL S', 184899), ('ECHOLS JOHN B', 182245), ('KISHKILL JOSEPH G', 174246), ('ELLIOTT STEVEN', 170941), ('SULLIVAN-SHAKLOVITZ COLLEEN', 162779), ('YEAGER F SCOTT', 158403), ('HUMPHREY GENE E', 130724), ('REDMOND BRIAN L', 96840), ('OVERDYKE JR JERE C', 94941), ('IZZO LAWRENCE L', 85274), ('BAZELIDES PHILIP J', 80818), ('REYNOLDS LAWRENCE', 76399), ('WESTFAHL RICHARD K', 63744), ('GRAY RODNEY', 6615), ('BANNANTINE JAMES M', 477)]\n"
     ]
    }
   ],
   "source": [
    "features = [\"salary\", \"bonus\"]\n",
    "\n",
    "dados = featureFormat(data_dict, features)\n",
    "\n",
    "#percorre o vetor e verifica os valores 'nan'\n",
    "outliers = []\n",
    "nomesNan = []\n",
    "for nome in data_dict:\n",
    "    salario = data_dict[nome]['salary']\n",
    "    \n",
    "    if salario == 'NaN':\n",
    "        nomesNan.append(nome)\n",
    "    else:outliers.append((nome, (salario)))\n",
    "#ORDENA O VETOR\n",
    "outliers_ordenado = sorted(outliers,key=lambda x:x[1],reverse=True)\n",
    "print(outliers_ordenado)\n"
   ]
  },
  {
   "cell_type": "markdown",
   "metadata": {},
   "source": [
    "Verifica-se pela lista que existe um elemento chamado 'TOTAL' que deve ser retirado da base de análise.\n"
   ]
  },
  {
   "cell_type": "code",
   "execution_count": 73,
   "metadata": {},
   "outputs": [
    {
     "name": "stdout",
     "output_type": "stream",
     "text": [
      "51\n"
     ]
    }
   ],
   "source": [
    "# quantidade de pessoas com salario igual a NaN\n",
    "print(len(nomesNan))"
   ]
  },
  {
   "cell_type": "markdown",
   "metadata": {},
   "source": [
    "Retirando os Outliers"
   ]
  },
  {
   "cell_type": "code",
   "execution_count": 5,
   "metadata": {},
   "outputs": [
    {
     "data": {
      "text/plain": [
       "{'bonus': 'NaN',\n",
       " 'deferral_payments': 'NaN',\n",
       " 'deferred_income': 'NaN',\n",
       " 'director_fees': 'NaN',\n",
       " 'email_address': 'NaN',\n",
       " 'exercised_stock_options': 'NaN',\n",
       " 'expenses': 'NaN',\n",
       " 'from_messages': 'NaN',\n",
       " 'from_poi_to_this_person': 'NaN',\n",
       " 'from_this_person_to_poi': 'NaN',\n",
       " 'loan_advances': 'NaN',\n",
       " 'long_term_incentive': 'NaN',\n",
       " 'other': 362096,\n",
       " 'poi': False,\n",
       " 'restricted_stock': 'NaN',\n",
       " 'restricted_stock_deferred': 'NaN',\n",
       " 'salary': 'NaN',\n",
       " 'shared_receipt_with_poi': 'NaN',\n",
       " 'to_messages': 'NaN',\n",
       " 'total_payments': 362096,\n",
       " 'total_stock_value': 'NaN'}"
      ]
     },
     "execution_count": 5,
     "metadata": {},
     "output_type": "execute_result"
    }
   ],
   "source": [
    "data_dict.pop('TOTAL', 0)\n",
    "data_dict.pop('THE TRAVEL AGENCY IN THE PARK',0)\n"
   ]
  },
  {
   "cell_type": "markdown",
   "metadata": {},
   "source": [
    "Verificamos o grafico novamente, sem os outliers"
   ]
  },
  {
   "cell_type": "code",
   "execution_count": 77,
   "metadata": {},
   "outputs": [
    {
     "data": {
      "text/plain": [
       "Text(0,0.5,u'Bonus')"
      ]
     },
     "execution_count": 77,
     "metadata": {},
     "output_type": "execute_result"
    },
    {
     "data": {
      "image/png": "[encoded data removed]",
      "text/plain": [
       "<matplotlib.figure.Figure at 0xf45d8f0>"
      ]
     },
     "metadata": {},
     "output_type": "display_data"
    }
   ],
   "source": [
    "##Plota o grafico sem os outliers\n",
    "features = [\"salary\", \"bonus\"]\n",
    "#data_dict.pop('TOTAL', 0)\n",
    "data = featureFormat(data_dict, features)\n",
    "### plot features\n",
    "for point in data:\n",
    "    salary = point[0]\n",
    "    bonus = point[1]\n",
    "    plt.scatter( salary, bonus )\n",
    "\n",
    "plt.xlabel(\"Salario\")\n",
    "plt.ylabel(\"Bonus\")\n",
    "#plt.show()"
   ]
  },
  {
   "cell_type": "code",
   "execution_count": 34,
   "metadata": {},
   "outputs": [
    {
     "name": "stdout",
     "output_type": "stream",
     "text": [
      "Nomes com salário igual a NaN\n",
      "['CORDES WILLIAM R', 'MEYER ROCKFORD G', 'HORTON STANLEY C', 'GIBBS DANA R', 'LOWRY CHARLES P', 'WALTERS GARETH W', 'CHAN RONNIE', 'BELFER ROBERT', 'WODRASKA JOHN', 'URQUHART JOHN A', 'WHALEY DAVID A', 'HAUG DAVID L', 'MENDELSOHN JOHN', 'CLINE KENNETH W', 'LEWIS RICHARD', 'HAYES ROBERT E', 'MCCARTY DANNY J', 'WAKEHAM JOHN', 'POWERS WILLIAM', 'DUNCAN JOHN H', 'LEMAISTRE CHARLES', 'PIRO JIM', 'WROBEL BRUCE', 'MEYER JEROME J', 'MCDONALD REBECCA', 'SCRIMSHAW MATTHEW', 'GATHMANN WILLIAM D', 'GILLIS JOHN', 'MORAN MICHAEL P', 'FOY JOE', 'LOCKHART EUGENE E', 'PEREIRA PAULO V. FERRAZ', 'BLAKE JR. NORMAN P', 'SHERRICK JEFFREY B', 'PRENTICE JAMES', 'THE TRAVEL AGENCY IN THE PARK', 'NOLES JAMES L', 'FOWLER PEGGY', 'CHRISTODOULOU DIOMEDES', 'JAEDICKE ROBERT', 'WINOKUR JR. HERBERT S', 'BROWN MICHAEL', 'BADUM JAMES P', 'HUGHES JAMES A', 'BHATNAGAR SANJAY', 'YEAP SOON', 'HIRKO JOSEPH', 'HAYSLETT RODERICK J', 'FUGH JOHN L', 'SAVAGE FRANK', 'GRAMM WENDY L']\n"
     ]
    }
   ],
   "source": [
    "print(\"Nomes com salário igual a NaN\")\n",
    "print(nomesNan)"
   ]
  },
  {
   "cell_type": "markdown",
   "metadata": {
    "collapsed": true
   },
   "source": [
    "Quantidade de POI, total de pagamentos,"
   ]
  },
  {
   "cell_type": "code",
   "execution_count": 39,
   "metadata": {},
   "outputs": [
    {
     "name": "stdout",
     "output_type": "stream",
     "text": [
      "POIs: 18\n",
      "POI que não há pagamentos: 0\n",
      "Qtd de Pessoas com Pagamentos nulos (NaN): 21\n",
      "Qtd de Pessoas com Salario igual a NaN: 51\n",
      "Qtd de Pessoas sem endereço de email: 34\n"
     ]
    }
   ],
   "source": [
    "contPoi = 0\n",
    "contPoiPay=0\n",
    "contPag = 0\n",
    "contSal = 0 \n",
    "contEmail = 0\n",
    "\n",
    "for i in data_dict:\n",
    "    if data_dict[i]['poi'] == True:\n",
    "        contPoi = contPoi + 1\n",
    "        if data_dict[i]['total_payments'] == 'NaN':\n",
    "            contPoiPay = contPoiPay + 1.0\n",
    "    if data_dict[i]['total_payments'] == 'NaN':\n",
    "        contPag = contPag + 1\n",
    "    if data_dict[i]['salary'] == 'NaN':\n",
    "        contSal = contSal + 1\n",
    "    if data_dict[i]['email_address'] == 'NaN':\n",
    "            contEmail = contEmail + 1\n",
    "        \n",
    "        \n",
    "print 'POIs: ' + str(contPoi)\n",
    "print 'POI que não há pagamentos: ' + str(contPoiPay)\n",
    "print 'Qtd de Pessoas com Pagamentos nulos (NaN): ' + str(contPag)\n",
    "print 'Qtd de Pessoas com Salario igual a NaN: ' + str(contSal)\n",
    "print 'Qtd de Pessoas sem endereço de email: ' + str(contEmail)            \n",
    "            "
   ]
  },
  {
   "cell_type": "markdown",
   "metadata": {},
   "source": [
    "Plotaremos a seguir um scatterplot dos bonus x salário para verificar se os POIs possuem maior bonus/salario.\n",
    "Usaremos o ggplot e para isso teremos que transformar os dados em formato Pandas."
   ]
  },
  {
   "cell_type": "code",
   "execution_count": 6,
   "metadata": {
    "collapsed": true
   },
   "outputs": [],
   "source": [
    "import pandas as pd\n",
    "\n",
    "data_dict_panda = pd.DataFrame(data_dict)\n",
    "data_dict_panda =data_dict_panda.T\n",
    "\n"
   ]
  },
  {
   "cell_type": "code",
   "execution_count": 6,
   "metadata": {},
   "outputs": [
    {
     "name": "stderr",
     "output_type": "stream",
     "text": [
      "C:\\python27\\lib\\site-packages\\ggplot\\utils.py:81: FutureWarning: pandas.tslib is deprecated and will be removed in a future version.\n",
      "You can access Timestamp as pandas.Timestamp\n",
      "  pd.tslib.Timestamp,\n",
      "C:\\python27\\lib\\site-packages\\ggplot\\stats\\smoothers.py:4: FutureWarning: The pandas.lib module is deprecated and will be removed in a future version. These are private functions and can be accessed from pandas._libs.lib instead\n",
      "  from pandas.lib import Timestamp\n",
      "C:\\python27\\lib\\site-packages\\statsmodels\\compat\\pandas.py:56: FutureWarning: The pandas.core.datetools module is deprecated and will be removed in a future version. Please use the pandas.tseries module instead.\n",
      "  from pandas.core import datetools\n"
     ]
    },
    {
     "data": {
      "image/png": "[encoded data removed]",
      "text/plain": [
       "<matplotlib.figure.Figure at 0x115e1390>"
      ]
     },
     "metadata": {},
     "output_type": "display_data"
    },
    {
     "name": "stdout",
     "output_type": "stream",
     "text": [
      "<ggplot: (2570895)>\n"
     ]
    }
   ],
   "source": [
    "## Plota bonus x Salario com diferenciação nos POIs\n",
    "from ggplot import *\n",
    "\n",
    "data_dict_panda = data_dict_panda.fillna(value = 0)\n",
    "print ggplot(data_dict_panda, aes(x = 'salary',y = 'bonus', colour = 'factor(poi)')) + geom_point() "
   ]
  },
  {
   "cell_type": "markdown",
   "metadata": {},
   "source": [
    "Nota-se pelo gráfico que há outlier que não é POI, possui um salário alto com um bonus 'mediano' e salario 'baixo' e bonus alto.\n",
    "Para os POIs ve-se dois outliers no extremo (alto salario e alto bonus).\n"
   ]
  },
  {
   "cell_type": "code",
   "execution_count": 53,
   "metadata": {},
   "outputs": [
    {
     "data": {
      "image/png": "[encoded data removed]",
      "text/plain": [
       "<matplotlib.figure.Figure at 0x12122e90>"
      ]
     },
     "metadata": {},
     "output_type": "display_data"
    },
    {
     "name": "stdout",
     "output_type": "stream",
     "text": [
      "<ggplot: (15083241)>\n"
     ]
    }
   ],
   "source": [
    "# Plota total de pagamentos x valor das açoes\n",
    "print ggplot(data_dict_panda, aes(x = 'total_payments',y = 'total_stock_value', colour = 'factor(poi)')) + geom_point()"
   ]
  },
  {
   "cell_type": "markdown",
   "metadata": {
    "collapsed": true
   },
   "source": [
    "NOta-se que no \"primeiro quadrante\" (total_payments até 0.2 e tota_stock_value até 1) temos os POIS e não POIs todos misturados. Encontra-se um POI outlier no extremo direito do scatterplot."
   ]
  },
  {
   "cell_type": "code",
   "execution_count": 54,
   "metadata": {},
   "outputs": [
    {
     "data": {
      "image/png": "[encoded data removed]",
      "text/plain": [
       "<matplotlib.figure.Figure at 0xde48f90>"
      ]
     },
     "metadata": {},
     "output_type": "display_data"
    },
    {
     "name": "stdout",
     "output_type": "stream",
     "text": [
      "<ggplot: (14573925)>\n"
     ]
    }
   ],
   "source": [
    "# Plota total de deferral_payments x deferred_income\n",
    "print ggplot(data_dict_panda, aes(x = 'deferral_payments',y = 'deferred_income', colour = 'factor(poi)')) + geom_point()"
   ]
  },
  {
   "cell_type": "markdown",
   "metadata": {
    "collapsed": true
   },
   "source": [
    "Verifica-se que valores baixos no eixo Y contem apenas não POI e valores próximos a zero ficam inconclusivos a classificação."
   ]
  },
  {
   "cell_type": "code",
   "execution_count": 55,
   "metadata": {},
   "outputs": [
    {
     "data": {
      "image/png": "[encoded data removed]",
      "text/plain": [
       "<matplotlib.figure.Figure at 0x12028a30>"
      ]
     },
     "metadata": {},
     "output_type": "display_data"
    },
    {
     "name": "stdout",
     "output_type": "stream",
     "text": [
      "<ggplot: (18888983)>\n"
     ]
    }
   ],
   "source": [
    "# Plota exercised_stock_options x total stock Value\n",
    "print ggplot(data_dict_panda, aes(x = 'exercised_stock_options',y = 'total_stock_value', colour = 'factor(poi)')) + geom_point()"
   ]
  },
  {
   "cell_type": "markdown",
   "metadata": {
    "collapsed": true
   },
   "source": [
    "Observa-se que as duas variaveis possuem uma boa relaçao linear, próximo a uma reta. Os outliers podemos classifica-los como POI."
   ]
  },
  {
   "cell_type": "code",
   "execution_count": 56,
   "metadata": {},
   "outputs": [
    {
     "data": {
      "image/png": "[encoded data removed]",
      "text/plain": [
       "<matplotlib.figure.Figure at 0xe459350>"
      ]
     },
     "metadata": {},
     "output_type": "display_data"
    },
    {
     "name": "stdout",
     "output_type": "stream",
     "text": [
      "<ggplot: (14967137)>\n"
     ]
    }
   ],
   "source": [
    "# Plota exercised_stock_options x total stock Value\n",
    "print ggplot(data_dict_panda, aes(x = 'to_messages',y = 'from_poi_to_this_person', colour = 'factor(poi)')) + geom_point()"
   ]
  },
  {
   "cell_type": "markdown",
   "metadata": {},
   "source": [
    "Pequena incidencia de POI com valores pequenos no eixo x e y. com valores maiores de 2000 (to_menssages) e 100 (from_poi_to_this_person) verifica-se uma distribuição inconclusiva."
   ]
  },
  {
   "cell_type": "markdown",
   "metadata": {
    "collapsed": true
   },
   "source": [
    "## Processamento das Features\n",
    "Para o processamento das Features, criaremos duas novas caracteristicas que serão apresentadas a seguir.\n",
    "\n",
    "### Criação de Features (atributos)\n",
    "\n",
    "Criaremos dois novos atributos chamados por_email_from_Poi e por_email_to_POI.\n",
    "Testaremos a hipótese de que as pessoas de interesse trocam mais emails entre si, uma vez que o esquema de corrupção envolvia um grupo e esse grupo deveria se comunicar com mais frequencia entre si.\n",
    "Para a formula desse novo atributo temos:\n",
    "\n",
    "\n",
    "\n"
   ]
  },
  {
   "cell_type": "markdown",
   "metadata": {
    "collapsed": true
   },
   "source": [
    "$$por\\_from\\_poi =\\frac{numero\\ de\\ emails\\ recebidos\\ de\\ um\\ POI}{total\\ de\\ mensagens\\ recebidas}$$\n",
    "\n",
    "\n",
    "$$por\\_to\\_poi = \\frac{numero\\ de\\ emails\\ enviados\\ de\\ um\\ POI}{total\\ de\\ mensagens\\ enviadas}$$\n"
   ]
  },
  {
   "cell_type": "code",
   "execution_count": 7,
   "metadata": {
    "collapsed": true
   },
   "outputs": [],
   "source": [
    "#Criação de novos features\n",
    "for nome in data_dict:\n",
    "    #por_from_poi\n",
    "    emails_recebidos = data_dict[nome]['from_poi_to_this_person']\n",
    "    tot_emails_recebidos = data_dict[nome]['to_messages']\n",
    "    \n",
    "    if emails_recebidos == 'NaN' or tot_emails_recebidos =='NaN':\n",
    "        data_dict[nome]['por_from_poi'] = 0.0\n",
    "    else:\n",
    "        data_dict[nome]['por_from_poi'] = float(emails_recebidos)/float(tot_emails_recebidos)\n",
    "            \n",
    "    #por_to_poi\n",
    "    emails_enviados = data_dict[nome]['from_this_person_to_poi']\n",
    "    tot_emails_enviados = data_dict[nome]['from_messages']\n",
    "    \n",
    "    if emails_enviados == 'NaN' or tot_emails_enviados =='NaN':\n",
    "        data_dict[nome]['por_to_poi'] = 0.0\n",
    "    else:\n",
    "        data_dict[nome]['por_to_poi'] = float(emails_enviados)/float(tot_emails_enviados)\n",
    "    "
   ]
  },
  {
   "cell_type": "code",
   "execution_count": 8,
   "metadata": {},
   "outputs": [
    {
     "data": {
      "image/png": "[encoded data removed]",
      "text/plain": [
       "<matplotlib.figure.Figure at 0x116feab0>"
      ]
     },
     "metadata": {},
     "output_type": "display_data"
    },
    {
     "name": "stdout",
     "output_type": "stream",
     "text": [
      "<ggplot: (18211185)>\n"
     ]
    }
   ],
   "source": [
    "## plotando o grafico dos novos atributos\n",
    "data_dict_panda = pd.DataFrame(data_dict)\n",
    "data_dict_panda =data_dict_panda.T\n",
    "\n",
    "print ggplot(data_dict_panda, aes(x = 'por_to_poi',y = 'por_from_poi', colour = 'factor(poi)')) + geom_point()"
   ]
  },
  {
   "cell_type": "markdown",
   "metadata": {},
   "source": [
    "### Selecao de Features\n",
    "\n",
    "Para rodar o algoritimo de seleção de features foram removidas as que continham NaN em mais de 50% das ocorrencias.\n",
    "\n"
   ]
  },
  {
   "cell_type": "code",
   "execution_count": 3,
   "metadata": {
    "collapsed": true
   },
   "outputs": [],
   "source": [
    "### Load the dictionary containing the dataset\n",
    "with open(\"final_project_dataset.pkl\", \"r\") as data_file:\n",
    "    data_dict = pickle.load(data_file)"
   ]
  },
  {
   "cell_type": "code",
   "execution_count": 6,
   "metadata": {
    "collapsed": true
   },
   "outputs": [],
   "source": [
    "import pandas as pd\n",
    "data_panda = pd.DataFrame.from_dict(data_dict, orient='index')"
   ]
  },
  {
   "cell_type": "code",
   "execution_count": 10,
   "metadata": {
    "collapsed": true
   },
   "outputs": [],
   "source": [
    "retirados = data_panda.describe().transpose().sort_values(['freq'], ascending=False) "
   ]
  },
  {
   "cell_type": "markdown",
   "metadata": {},
   "source": [
    "Serão retirados as seguintes features (menos o POI) por representar Mais que 50% de NAN:"
   ]
  },
  {
   "cell_type": "code",
   "execution_count": 15,
   "metadata": {},
   "outputs": [
    {
     "data": {
      "text/html": [
       "<div>\n",
       "<style scoped>\n",
       "    .dataframe tbody tr th:only-of-type {\n",
       "        vertical-align: middle;\n",
       "    }\n",
       "\n",
       "    .dataframe tbody tr th {\n",
       "        vertical-align: top;\n",
       "    }\n",
       "\n",
       "    .dataframe thead th {\n",
       "        text-align: right;\n",
       "    }\n",
       "</style>\n",
       "<table border=\"1\" class=\"dataframe\">\n",
       "  <thead>\n",
       "    <tr style=\"text-align: right;\">\n",
       "      <th></th>\n",
       "      <th>count</th>\n",
       "      <th>unique</th>\n",
       "      <th>top</th>\n",
       "      <th>freq</th>\n",
       "    </tr>\n",
       "  </thead>\n",
       "  <tbody>\n",
       "    <tr>\n",
       "      <th>loan_advances</th>\n",
       "      <td>146</td>\n",
       "      <td>5</td>\n",
       "      <td>NaN</td>\n",
       "      <td>142</td>\n",
       "    </tr>\n",
       "    <tr>\n",
       "      <th>director_fees</th>\n",
       "      <td>146</td>\n",
       "      <td>18</td>\n",
       "      <td>NaN</td>\n",
       "      <td>129</td>\n",
       "    </tr>\n",
       "    <tr>\n",
       "      <th>restricted_stock_deferred</th>\n",
       "      <td>146</td>\n",
       "      <td>19</td>\n",
       "      <td>NaN</td>\n",
       "      <td>128</td>\n",
       "    </tr>\n",
       "    <tr>\n",
       "      <th>poi</th>\n",
       "      <td>146</td>\n",
       "      <td>2</td>\n",
       "      <td>False</td>\n",
       "      <td>128</td>\n",
       "    </tr>\n",
       "    <tr>\n",
       "      <th>deferral_payments</th>\n",
       "      <td>146</td>\n",
       "      <td>40</td>\n",
       "      <td>NaN</td>\n",
       "      <td>107</td>\n",
       "    </tr>\n",
       "    <tr>\n",
       "      <th>deferred_income</th>\n",
       "      <td>146</td>\n",
       "      <td>45</td>\n",
       "      <td>NaN</td>\n",
       "      <td>97</td>\n",
       "    </tr>\n",
       "    <tr>\n",
       "      <th>long_term_incentive</th>\n",
       "      <td>146</td>\n",
       "      <td>53</td>\n",
       "      <td>NaN</td>\n",
       "      <td>80</td>\n",
       "    </tr>\n",
       "  </tbody>\n",
       "</table>\n",
       "</div>"
      ],
      "text/plain": [
       "                          count unique    top freq\n",
       "loan_advances               146      5    NaN  142\n",
       "director_fees               146     18    NaN  129\n",
       "restricted_stock_deferred   146     19    NaN  128\n",
       "poi                         146      2  False  128\n",
       "deferral_payments           146     40    NaN  107\n",
       "deferred_income             146     45    NaN   97\n",
       "long_term_incentive         146     53    NaN   80"
      ]
     },
     "execution_count": 15,
     "metadata": {},
     "output_type": "execute_result"
    }
   ],
   "source": [
    "retirados.head(7)"
   ]
  },
  {
   "cell_type": "code",
   "execution_count": null,
   "metadata": {
    "collapsed": true
   },
   "outputs": [],
   "source": []
  },
  {
   "cell_type": "code",
   "execution_count": 9,
   "metadata": {},
   "outputs": [
    {
     "data": {
      "text/plain": [
       "SelectKBest(k=5, score_func=<function f_classif at 0x120CDBF0>)"
      ]
     },
     "execution_count": 9,
     "metadata": {},
     "output_type": "execute_result"
    }
   ],
   "source": [
    "from sklearn.feature_selection import SelectKBest, f_classif\n",
    "\n",
    "features_list = [\"poi\", \"bonus\", \"exercised_stock_options\", \"expenses\", \"other\", \"restricted_stock\", \"salary\", \n",
    "                  \"shared_receipt_with_poi\", \"total_payments\", \"total_stock_value\", \"por_to_poi\",\n",
    "                 \"por_from_poi\"]\n",
    "\n",
    "data = featureFormat(data_dict, features_list, sort_keys = True)\n",
    "labels, features = targetFeatureSplit(data)\n",
    "\n",
    "# Perform feature selection\n",
    "selector = SelectKBest(f_classif, k=5)\n",
    "selector.fit(features, labels)\n"
   ]
  },
  {
   "cell_type": "code",
   "execution_count": 11,
   "metadata": {},
   "outputs": [
    {
     "data": {
      "text/html": [
       "<div>\n",
       "<style scoped>\n",
       "    .dataframe tbody tr th:only-of-type {\n",
       "        vertical-align: middle;\n",
       "    }\n",
       "\n",
       "    .dataframe tbody tr th {\n",
       "        vertical-align: top;\n",
       "    }\n",
       "\n",
       "    .dataframe thead th {\n",
       "        text-align: right;\n",
       "    }\n",
       "</style>\n",
       "<table border=\"1\" class=\"dataframe\">\n",
       "  <thead>\n",
       "    <tr style=\"text-align: right;\">\n",
       "      <th></th>\n",
       "      <th>Features</th>\n",
       "      <th>KBest Score</th>\n",
       "    </tr>\n",
       "  </thead>\n",
       "  <tbody>\n",
       "    <tr>\n",
       "      <th>10</th>\n",
       "      <td>por_from_poi</td>\n",
       "      <td>3.210762</td>\n",
       "    </tr>\n",
       "    <tr>\n",
       "      <th>3</th>\n",
       "      <td>other</td>\n",
       "      <td>4.204971</td>\n",
       "    </tr>\n",
       "    <tr>\n",
       "      <th>2</th>\n",
       "      <td>expenses</td>\n",
       "      <td>6.234201</td>\n",
       "    </tr>\n",
       "    <tr>\n",
       "      <th>6</th>\n",
       "      <td>shared_receipt_with_poi</td>\n",
       "      <td>8.746486</td>\n",
       "    </tr>\n",
       "    <tr>\n",
       "      <th>7</th>\n",
       "      <td>total_payments</td>\n",
       "      <td>8.866722</td>\n",
       "    </tr>\n",
       "    <tr>\n",
       "      <th>4</th>\n",
       "      <td>restricted_stock</td>\n",
       "      <td>9.346701</td>\n",
       "    </tr>\n",
       "    <tr>\n",
       "      <th>9</th>\n",
       "      <td>por_to_poi</td>\n",
       "      <td>16.641707</td>\n",
       "    </tr>\n",
       "    <tr>\n",
       "      <th>5</th>\n",
       "      <td>salary</td>\n",
       "      <td>18.575703</td>\n",
       "    </tr>\n",
       "    <tr>\n",
       "      <th>0</th>\n",
       "      <td>bonus</td>\n",
       "      <td>21.060002</td>\n",
       "    </tr>\n",
       "    <tr>\n",
       "      <th>8</th>\n",
       "      <td>total_stock_value</td>\n",
       "      <td>24.467654</td>\n",
       "    </tr>\n",
       "    <tr>\n",
       "      <th>1</th>\n",
       "      <td>exercised_stock_options</td>\n",
       "      <td>25.097542</td>\n",
       "    </tr>\n",
       "  </tbody>\n",
       "</table>\n",
       "</div>"
      ],
      "text/plain": [
       "                   Features  KBest Score\n",
       "10             por_from_poi     3.210762\n",
       "3                     other     4.204971\n",
       "2                  expenses     6.234201\n",
       "6   shared_receipt_with_poi     8.746486\n",
       "7            total_payments     8.866722\n",
       "4          restricted_stock     9.346701\n",
       "9                por_to_poi    16.641707\n",
       "5                    salary    18.575703\n",
       "0                     bonus    21.060002\n",
       "8         total_stock_value    24.467654\n",
       "1   exercised_stock_options    25.097542"
      ]
     },
     "execution_count": 11,
     "metadata": {},
     "output_type": "execute_result"
    }
   ],
   "source": [
    "# organiza os resultados em uma planilha panda\n",
    "feat_score = pd.DataFrame(selector.scores_)\n",
    "feat_score.insert(loc=0,column='features',value=features_list[1:])\n",
    "feat_score.columns=['Features','KBest Score']\n",
    "feat_score.sort_values(by=['KBest Score'])"
   ]
  },
  {
   "cell_type": "markdown",
   "metadata": {},
   "source": [
    "### PCA"
   ]
  },
  {
   "cell_type": "markdown",
   "metadata": {},
   "source": [
    "Foram utilizados o algoritimo PCA (Principal Component Analysis) que foram inseridos como parametro no GridSearch:\n",
    "\n",
    "Principal Components Analysis (```PCA```) : ```n_components```, ```whiten```\n",
    "\n",
    "Para os classificadores RAndom Forest e Decision Tree foram retirados os parametros de PCA por motivo de desempenho."
   ]
  },
  {
   "cell_type": "markdown",
   "metadata": {},
   "source": [
    "## Classificadores\n",
    "Para todos os classificadores foram gerados uma procedure (def) para cada. Na biblioteca p5aux.py temos funções de auxilio e que foram citadas no estudo exploratório. Também foi realizado modificações no arquivo tester.py para que possamos imprimir os resultados dos classificadores de uma forma mais organizada.\n",
    "A Seguir explicaremos procedures (def) por procedures utilizados no programa.\n",
    "\n",
    "\n",
    "\n",
    "### P5aux.py\n",
    "\n",
    "Para melhor organização do código foi criado uma biblioteca chamada P5aux que contem as seguintes funções:"
   ]
  },
  {
   "cell_type": "code",
   "execution_count": 1,
   "metadata": {
    "collapsed": true
   },
   "outputs": [],
   "source": [
    "## Remove os outliers dos dados\n",
    "def remove_outliers(data_dict):\n",
    "    data_dict.pop('TOTAL',0)\n",
    "    data_dict.pop('THE TRAVEL AGENCY IN THE PARK',0)\n"
   ]
  },
  {
   "cell_type": "code",
   "execution_count": 2,
   "metadata": {
    "collapsed": true
   },
   "outputs": [],
   "source": [
    "#Criação de novos features - 'por_from_poi' e 'por_to_poi'\n",
    "# retorna os dados com as novas features\n",
    "def cria_atributos(data_dict):\n",
    "    for nome in data_dict:\n",
    "    #por_from_poi\n",
    "        emails_recebidos = data_dict[nome]['from_poi_to_this_person']\n",
    "        tot_emails_recebidos = data_dict[nome]['to_messages']\n",
    "\n",
    "        if emails_recebidos == 'NaN' or tot_emails_recebidos =='NaN':\n",
    "            data_dict[nome]['por_from_poi'] = 0.0\n",
    "        else:\n",
    "            data_dict[nome]['por_from_poi'] = float(emails_recebidos)/float(tot_emails_recebidos)\n",
    "\n",
    "        #por_to_poi\n",
    "        emails_enviados = data_dict[nome]['from_this_person_to_poi']\n",
    "        tot_emails_enviados = data_dict[nome]['from_messages']\n",
    "\n",
    "        if emails_enviados == 'NaN' or tot_emails_enviados =='NaN':\n",
    "            data_dict[nome]['por_to_poi'] = 0.0\n",
    "        else:\n",
    "            data_dict[nome]['por_to_poi'] = float(emails_enviados)/float(tot_emails_enviados)\n",
    "\n",
    "    return data_dict"
   ]
  },
  {
   "cell_type": "code",
   "execution_count": 3,
   "metadata": {
    "collapsed": true
   },
   "outputs": [],
   "source": [
    "# lista todos os features contida nos dados\n",
    "# retorna uma lista de featuers com o 'poi' no inicio da lista\n",
    "def todos_features (data_dict):\n",
    "\n",
    "    features_list = data_dict['SKILLING JEFFREY K'].keys()\n",
    "    features_list.remove('email_address')\n",
    "    features_list.remove('poi')\n",
    "    features_list = ['poi'] + features_list\n",
    "    return features_list\n"
   ]
  },
  {
   "cell_type": "code",
   "execution_count": 4,
   "metadata": {
    "collapsed": true
   },
   "outputs": [],
   "source": [
    "# retorna os k melhores features dado de entrada um data set,\n",
    "# lista de features e numero de k.\n",
    "\n",
    "def k_best(data_dict, features_list, k):\n",
    "\n",
    "    data = featureFormat(data_dict, features_list)\n",
    "    labels, features = targetFeatureSplit(data)\n",
    "\n",
    "    kbest = SelectKBest(f_classif, k=k)\n",
    "    kbest.fit(features, labels)\n",
    "\n",
    "    feature_list = zip(features_list[1:], kbest.scores_)\n",
    "    ordenado = sorted(feature_list, key=lambda x: x[1], reverse=True)\n",
    "    k_best_features = dict(ordenado[:k])\n",
    "    return ['poi'] + k_best_features.keys()\n"
   ]
  },
  {
   "cell_type": "code",
   "execution_count": 5,
   "metadata": {
    "collapsed": true
   },
   "outputs": [],
   "source": [
    "#funcao que imprime o resultado do gridsearch\n",
    "# em uma tabela prettytable\n",
    "import prettytable\n",
    "from prettytable import ALL as ALL\n",
    "\n",
    "def imprime_resultado(tabela, gridsearch, parametros, nome):\n",
    "    pars = \"\"\n",
    "    melhor_resultado = gridsearch.best_estimator_.get_params()\n",
    "    for nome_parametro in sorted(parametros.keys()):\n",
    "        pars = pars + nome_parametro + ': ' + str(melhor_resultado[nome_parametro]) +'\\n'\n",
    "\n",
    "\n",
    "    tabela.add_row([nome, gridsearch.best_score_, pars])\n"
   ]
  },
  {
   "cell_type": "code",
   "execution_count": 6,
   "metadata": {
    "collapsed": true
   },
   "outputs": [],
   "source": [
    "# inicia uma tabela de resultado - prettytable\n",
    "def inicia_resultado():\n",
    "    tab = prettytable.PrettyTable(hrules=ALL)\n",
    "    tab.field_names = ['Classificador', 'Pontuacao', 'Atributos']\n",
    "    return tab\n",
    "\n",
    "def inicia_tabela_testes():\n",
    "    tab = prettytable.PrettyTable(hrules=ALL)\n",
    "    tab.add_column (\"Classificador\",['Accuracy', 'Precision', 'Recal', 'f1', 'f2', 'Total Predictions', 'true_positives','false Positives', 'false Negatives', 'true_negatives'])\n",
    "    return tab\n"
   ]
  },
  {
   "cell_type": "code",
   "execution_count": null,
   "metadata": {
    "collapsed": true
   },
   "outputs": [],
   "source": [
    "def inicia_pandas_testes():\n",
    "\n",
    "    nomes = ['Classificador',\n",
    "             'k',\n",
    "             'Accuracy',\n",
    "             'Precision',\n",
    "             'Recal',\n",
    "             'f1',\n",
    "             'f2',\n",
    "             'Total Predictions',\n",
    "             'true_positives',\n",
    "             'false Positives',\n",
    "             'false Negatives',\n",
    "             'true_negatives']\n",
    "    tab_panda = pd.DataFrame(columns = nomes)\n",
    "    return tab_panda\n",
    "\n",
    "# insere na tabela os valores\n",
    "def insere_panda(tabela, nome, listadados,k):\n",
    "    a = listadados\n",
    "    a.insert(0,k)\n",
    "    a.insert(0,nome)\n",
    "    tabela.loc[len(tabela.index)+1] = a\n",
    "    return tabela\n"
   ]
  },
  {
   "cell_type": "markdown",
   "metadata": {},
   "source": [
    "### testador.py\n",
    "\n",
    "Foi feito uma cópia do arquivo tester.py (fornecido pelo curso) e foi modificado a função test_classifier que ao inves de imprimir na tela os resultados, a função agora retorna uma lista dos resultados para que possa ser visualizada de uma forma mais organizada."
   ]
  },
  {
   "cell_type": "code",
   "execution_count": null,
   "metadata": {
    "collapsed": true
   },
   "outputs": [],
   "source": [
    "   ## código inserido\n",
    "        saida = [accuracy,precision,recall,f1,f2,total_predictions,true_positives,false_positives,false_negatives,true_negatives]\n",
    "        return saida\n",
    "   ## código retirado\n",
    "        print clf\n",
    "        print PERF_FORMAT_STRING.format(accuracy, precision, recall, f1, f2, display_precision = 5)\n",
    "        print RESULTS_FORMAT_STRING.format(total_predictions, true_positives, false_positives, false_negatives, true_negatives)\n",
    "        print \"\"\n"
   ]
  },
  {
   "cell_type": "markdown",
   "metadata": {},
   "source": [
    "## poi_id.py\n",
    "\n",
    "Este é o principal arquivo que contém os classificadores, ajustes de parametros e os testes. Este programa, imprime em forma de planilha todos os ajustes realizados e o resultado dos testes utilizando a biblioteca testador.py\n",
    "Para a versão de entrega, foram comentados a execução de todos os testes, deixando apenas a execução do melhor classificador.\n"
   ]
  },
  {
   "cell_type": "markdown",
   "metadata": {},
   "source": [
    "Além das bibliotecas dos classificadores foram utilizadas as bibliotecas criadas (citadas neste estudo) e a biblioteca prettytable responsável em uma visualização mais amigável dos resultados."
   ]
  },
  {
   "cell_type": "code",
   "execution_count": 1,
   "metadata": {},
   "outputs": [
    {
     "name": "stderr",
     "output_type": "stream",
     "text": [
      "C:\\python27\\lib\\site-packages\\sklearn\\cross_validation.py:41: DeprecationWarning: This module was deprecated in version 0.18 in favor of the model_selection module into which all the refactored classes and functions are moved. Also note that the interface of the new CV iterators are different from that of this module. This module will be removed in 0.20.\n",
      "  \"This module will be removed in 0.20.\", DeprecationWarning)\n",
      "C:\\python27\\lib\\site-packages\\sklearn\\grid_search.py:42: DeprecationWarning: This module was deprecated in version 0.18 in favor of the model_selection module into which all the refactored classes and functions are moved. This module will be removed in 0.20.\n",
      "  DeprecationWarning)\n"
     ]
    }
   ],
   "source": [
    "import sys\n",
    "import pickle\n",
    "sys.path.append(\"../tools/\")\n",
    "\n",
    "import p5aux #Biblioteca auxiliar criado por Eric.\n",
    "import sys\n",
    "import pickle\n",
    "sys.path.append(\"../tools/\")\n",
    "\n",
    "from feature_format import featureFormat, targetFeatureSplit\n",
    "from tester import dump_classifier_and_data\n",
    "import testador # Baseado no arquivo tester.py fornecido pela udacity\n",
    "\n",
    "from sklearn.feature_selection import SelectKBest\n",
    "from sklearn.pipeline import Pipeline\n",
    "from sklearn.decomposition import PCA\n",
    "from sklearn.preprocessing import StandardScaler\n",
    "from sklearn.cross_validation import train_test_split\n",
    "from sklearn.cross_validation import StratifiedShuffleSplit\n",
    "from sklearn.naive_bayes import GaussianNB\n",
    "from sklearn.linear_model import LogisticRegression\n",
    "from sklearn.tree import DecisionTreeClassifier\n",
    "from sklearn.svm import SVC\n",
    "from sklearn.ensemble import RandomForestClassifier\n",
    "from sklearn.ensemble import AdaBoostClassifier\n",
    "from sklearn.grid_search import GridSearchCV\n",
    "\n",
    "import prettytable\n",
    "from prettytable import ALL as ALL\n"
   ]
  },
  {
   "cell_type": "markdown",
   "metadata": {},
   "source": [
    "Leitura das variáveis e retirada dos outliers"
   ]
  },
  {
   "cell_type": "code",
   "execution_count": 2,
   "metadata": {
    "collapsed": true
   },
   "outputs": [],
   "source": [
    "### Task 1: Select what features you'll use.\n",
    "### features_list is a list of strings, each of which is a feature name.\n",
    "### The first feature must be \"poi\".\n",
    "features_list = ['poi','salary'] # You will need to use more features\n",
    "\n",
    "### Load the dictionary containing the dataset\n",
    "with open(\"final_project_dataset.pkl\", \"r\") as data_file:\n",
    "    data_dict = pickle.load(data_file)\n",
    "\n",
    "### Task 2: Remove outliers\n",
    "### Task 3: Create new feature(s)\n",
    "### Store to my_dataset for easy export below.\n",
    "\n",
    "#Chama função que está na biblioteca criada: p5aux.py\n",
    "#remove os outliers Total e 'the traval agency in the park'\n",
    "p5aux.remove_outliers(data_dict)\n",
    "\n",
    "# cria os atributos 'por_from_poi' e 'por_to_poi'\n",
    "p5aux.cria_atributos(data_dict)\n",
    "\n",
    "my_dataset = data_dict\n",
    "\n",
    "features_list = p5aux.inicia_features()\n",
    "\n",
    "features_list_limpo = p5aux.inicia_features_limpo()\n",
    "\n",
    "\n"
   ]
  },
  {
   "cell_type": "markdown",
   "metadata": {},
   "source": [
    "Trabalha os dados para inserir nos classificadores."
   ]
  },
  {
   "cell_type": "code",
   "execution_count": 3,
   "metadata": {
    "collapsed": true
   },
   "outputs": [],
   "source": [
    "### Extract features and labels from dataset for local testing\n",
    "data = featureFormat(my_dataset, features_list, sort_keys = True)\n",
    "labels, features = targetFeatureSplit(data)\n",
    "\n",
    "## divide a amostragem entre treino e tester\n",
    "features_train, features_test, labels_train, labels_test = train_test_split(\n",
    "                    features,\n",
    "                     labels,\n",
    "                     test_size=0.3,\n",
    "                     random_state=60)\n",
    "cv = StratifiedShuffleSplit(labels_train,\n",
    "                                   100,\n",
    "                                   test_size=0.2,\n",
    "                                   random_state=60)\n"
   ]
  },
  {
   "cell_type": "markdown",
   "metadata": {},
   "source": [
    ">Porém, não ficou muito claro pra mim se esse \"retorna em camadas\" está falando sobre a diferença entre o stratified e o train_test_split. Poderia deixar mais claro o que é feito no Stratified?\n",
    "\n",
    "O \"retorna em camadas\" foi apenas um desleixo na tradução encontrada na documentação. Folds = camadas = diretório.\n",
    "De acordo com a documentaçao, ele é um merge entre stratifiedkfold e o shuffleSplit. Segue documentação do algoritimo, caso necessite de mais detalhes: http://scikit-learn.org/stable/modules/generated/sklearn.model_selection.StratifiedShuffleSplit.html"
   ]
  },
  {
   "cell_type": "markdown",
   "metadata": {},
   "source": [
    "\"Stratified ShuffleSplit cross-validator\n",
    "Provides train/test indices to split data in train/test sets.\n",
    "This cross-validation object is a merge of StratifiedKFold and ShuffleSplit, which returns stratified randomized folds. The folds are made by preserving the percentage of samples for each class.\n",
    "Note: like the ShuffleSplit strategy, stratified random splits do not guarantee that all folds will be different, although this is still very likely for sizeable datasets.\""
   ]
  },
  {
   "cell_type": "markdown",
   "metadata": {},
   "source": [
    "<span style=\"color:red\">  Correção: Para dividir os dados entre teste e treinamento foi utilizado o algorimito 'StratifiedShuffleSplit' que retorna em camadas de forma randomizada os dados de teste e treinamento. Foi utilizado como parametro o test_size=0.2 que significa que 20% dos dados vão para teste e o restante (80%) será usado para treinamento.  </span>"
   ]
  },
  {
   "cell_type": "markdown",
   "metadata": {},
   "source": [
    "Tabela prettytable e panda para imprimir os resultados"
   ]
  },
  {
   "cell_type": "code",
   "execution_count": 4,
   "metadata": {
    "collapsed": true
   },
   "outputs": [],
   "source": [
    "### cria uma tabela de resultados\n",
    "tabela_resultado = p5aux.inicia_resultado()\n",
    "tabela_teste = p5aux.inicia_tabela_testes()\n",
    "\n",
    "tabela_panda = p5aux.inicia_pandas_testes()"
   ]
  },
  {
   "cell_type": "markdown",
   "metadata": {},
   "source": [
    "## Classificadores\n",
    "\n",
    "Para cada classificador, foi criado uma procedure de forma a organizar melhor o código e realizar testes de forma mais prática. Em todos os classificadores foi utilizado o GRIDSEARCH para acharmos os melhores parametros de entrada.\n",
    "\n",
    "#### Logistic Regression"
   ]
  },
  {
   "cell_type": "code",
   "execution_count": 6,
   "metadata": {
    "collapsed": true
   },
   "outputs": [],
   "source": [
    "def classificador_logistic_regression():\n",
    "\n",
    "    kb = SelectKBest()\n",
    "    pca = PCA()\n",
    "    clf_lr = LogisticRegression()\n",
    "\n",
    "    pipe_lr = Pipeline(steps=[(\"SKB\", kb), (\"PCA\", pca),\n",
    "                              (\"LogisticRegression\", clf_lr)])\n",
    "\n",
    "    lr_k = {\"SKB__k\": range(9, 10)}\n",
    "    lr_params = {'LogisticRegression__C': [1e-08, 1e-07, 1e-06],\n",
    "                 'LogisticRegression__tol': [1e-2, 1e-3, 1e-4],\n",
    "                 'LogisticRegression__penalty': ['l1', 'l2'],\n",
    "                 'LogisticRegression__random_state': [42, 46, 60]}\n",
    "    lr_pca = {\"PCA__n_components\": range(3, 8), \"PCA__whiten\": [True, False]}\n",
    "\n",
    "    lr_k.update(lr_params)\n",
    "    lr_k.update(lr_pca)\n",
    "    ## inicia o gridsearch\n",
    "    grid_search = GridSearchCV(pipe_lr,\n",
    "                               lr_k,\n",
    "                               n_jobs=-1,\n",
    "                               cv=cv,\n",
    "                               scoring='f1')\n",
    "    grid_search.fit(features_train, labels_train)\n",
    "    #imprime resultados em uma tabela\n",
    "    p5aux.imprime_resultado(tabela_resultado,\n",
    "                            grid_search,\n",
    "                            lr_k,\n",
    "                            \"Logistic Regression\")\n"
   ]
  },
  {
   "cell_type": "code",
   "execution_count": 7,
   "metadata": {
    "collapsed": true
   },
   "outputs": [],
   "source": [
    "classificador_logistic_regression()"
   ]
  },
  {
   "cell_type": "code",
   "execution_count": 8,
   "metadata": {},
   "outputs": [
    {
     "name": "stdout",
     "output_type": "stream",
     "text": [
      "+---------------------+----------------+--------------------------------------+\n",
      "|    Classificador    |   Pontuacao    |              Atributos               |\n",
      "+---------------------+----------------+--------------------------------------+\n",
      "| Logistic Regression | 0.285302031302 |     LogisticRegression__C: 1e-06     |\n",
      "|                     |                |   LogisticRegression__penalty: l1    |\n",
      "|                     |                | LogisticRegression__random_state: 42 |\n",
      "|                     |                |    LogisticRegression__tol: 0.01     |\n",
      "|                     |                |         PCA__n_components: 7         |\n",
      "|                     |                |          PCA__whiten: False          |\n",
      "|                     |                |              SKB__k: 9               |\n",
      "|                     |                |                                      |\n",
      "+---------------------+----------------+--------------------------------------+\n"
     ]
    }
   ],
   "source": [
    "print(tabela_resultado)"
   ]
  },
  {
   "cell_type": "markdown",
   "metadata": {},
   "source": [
    "#### SVC - Suport Vector Classifier"
   ]
  },
  {
   "cell_type": "code",
   "execution_count": 9,
   "metadata": {
    "collapsed": true
   },
   "outputs": [],
   "source": [
    "def classificador_svc():\n",
    "    # inicia as variaveis\n",
    "    kb = SelectKBest()\n",
    "    pca = PCA()\n",
    "    clf_svc = SVC()\n",
    "    # seta os parametros\n",
    "    pipe_svc = Pipeline(steps=[(\"SKB\", kb), (\"PCA\", pca), (\"SVC\", clf_svc)])\n",
    "\n",
    "    svc_k = {\"SKB__k\": range(8, 10)}\n",
    "    svc_pca = {\"PCA__n_components\": range(3, 8), \"PCA__whiten\": [True, False]}\n",
    "    svc_params = {'SVC__C': [1000],\n",
    "                  'SVC__gamma': [0.001],\n",
    "                  'SVC__kernel': ['rbf']}\n",
    "    svc_k.update(svc_params)\n",
    "    svc_k.update(svc_pca)\n",
    "    grid_search = GridSearchCV(pipe_svc,\n",
    "                               svc_k,\n",
    "                               n_jobs=-1,\n",
    "                               cv=cv,\n",
    "                               scoring='f1')\n",
    "    grid_search.fit(features_train, labels_train)\n",
    "\n",
    "    p5aux.imprime_resultado(tabela_resultado,\n",
    "                            grid_search,\n",
    "                            svc_k,\n",
    "                            \"Suport Vector Classifier\")\n"
   ]
  },
  {
   "cell_type": "code",
   "execution_count": 10,
   "metadata": {
    "collapsed": true
   },
   "outputs": [],
   "source": [
    "classificador_svc()"
   ]
  },
  {
   "cell_type": "code",
   "execution_count": 11,
   "metadata": {},
   "outputs": [
    {
     "name": "stdout",
     "output_type": "stream",
     "text": [
      "+--------------------------+-----------------+----------------------+\n",
      "|      Classificador       |    Pontuacao    |      Atributos       |\n",
      "+--------------------------+-----------------+----------------------+\n",
      "| Suport Vector Classifier | 0.0991904761905 | PCA__n_components: 7 |\n",
      "|                          |                 |  PCA__whiten: True   |\n",
      "|                          |                 |      SKB__k: 9       |\n",
      "|                          |                 |     SVC__C: 1000     |\n",
      "|                          |                 |  SVC__gamma: 0.001   |\n",
      "|                          |                 |   SVC__kernel: rbf   |\n",
      "|                          |                 |                      |\n",
      "+--------------------------+-----------------+----------------------+\n"
     ]
    }
   ],
   "source": [
    "print(tabela_resultado[1])"
   ]
  },
  {
   "cell_type": "markdown",
   "metadata": {},
   "source": [
    "#### Decision Tree"
   ]
  },
  {
   "cell_type": "code",
   "execution_count": 12,
   "metadata": {
    "collapsed": true
   },
   "outputs": [],
   "source": [
    "def classificador_decision_tree():\n",
    "\n",
    "    kb = SelectKBest()\n",
    "    pca = PCA()\n",
    "    clf_dt = DecisionTreeClassifier()\n",
    "\n",
    "    pipe = Pipeline(steps=[(\"SKB\", kb),\n",
    "                           (\"PCA\", pca),\n",
    "                           (\"DecisionTreeClassifier\",\n",
    "                           clf_dt)])\n",
    "\n",
    "    dt_k = {\"SKB__k\": range(8, 10)}\n",
    "    dt_params = {\"DecisionTreeClassifier__min_samples_leaf\": [2, 6, 10, 12],\n",
    "                 \"DecisionTreeClassifier__min_samples_split\": [2, 6, 10, 12],\n",
    "                 \"DecisionTreeClassifier__criterion\": [\"entropy\", \"gini\"],\n",
    "                 \"DecisionTreeClassifier__max_depth\": [None, 5],\n",
    "                 \"DecisionTreeClassifier__random_state\": [42, 46, 60]}\n",
    "    dt_pca = {\"PCA__n_components\": range(4, 7), \"PCA__whiten\": [True, False]}\n",
    "\n",
    "    dt_k.update(dt_params)\n",
    "    dt_k.update(dt_pca)\n",
    "\n",
    "#    enron.get_best_parameters_reports(pipe, dt_k, features, labels)\n",
    "    grid_search = GridSearchCV(pipe,\n",
    "                               dt_k,\n",
    "                               n_jobs=-1,\n",
    "                               cv=cv,\n",
    "                               scoring='f1')\n",
    "    grid_search.fit(features_train, labels_train)\n",
    "    p5aux.imprime_resultado(tabela_resultado, grid_search, dt_k,\"Decision Tree\")\n"
   ]
  },
  {
   "cell_type": "code",
   "execution_count": 13,
   "metadata": {
    "collapsed": true
   },
   "outputs": [],
   "source": [
    "classificador_decision_tree()"
   ]
  },
  {
   "cell_type": "code",
   "execution_count": 14,
   "metadata": {
    "collapsed": true
   },
   "outputs": [],
   "source": [
    "tabela_resultado.align = 'l'\n",
    "tabela_resultado.format = True"
   ]
  },
  {
   "cell_type": "code",
   "execution_count": 15,
   "metadata": {},
   "outputs": [
    {
     "name": "stdout",
     "output_type": "stream",
     "text": [
      "+---------------+----------------+----------------------------------------------+\n",
      "| Classificador | Pontuacao      | Atributos                                    |\n",
      "+---------------+----------------+----------------------------------------------+\n",
      "| Decision Tree | 0.133277777778 | DecisionTreeClassifier__criterion: gini      |\n",
      "|               |                | DecisionTreeClassifier__max_depth: None      |\n",
      "|               |                | DecisionTreeClassifier__min_samples_leaf: 2  |\n",
      "|               |                | DecisionTreeClassifier__min_samples_split: 6 |\n",
      "|               |                | DecisionTreeClassifier__random_state: 42     |\n",
      "|               |                | PCA__n_components: 4                         |\n",
      "|               |                | PCA__whiten: True                            |\n",
      "|               |                | SKB__k: 8                                    |\n",
      "|               |                |                                              |\n",
      "+---------------+----------------+----------------------------------------------+\n"
     ]
    }
   ],
   "source": [
    "print(tabela_resultado[2])"
   ]
  },
  {
   "cell_type": "markdown",
   "metadata": {},
   "source": [
    "#### Random Forest\n",
    "Para o Random Forest foram retirados o PCA por motivos de desempenho.\n"
   ]
  },
  {
   "cell_type": "code",
   "execution_count": 16,
   "metadata": {
    "collapsed": true
   },
   "outputs": [],
   "source": [
    "def classificador_random_forest():\n",
    "\n",
    "    kb = SelectKBest()\n",
    "    clf_rf = RandomForestClassifier()\n",
    "\n",
    "    pipe_rf = Pipeline(steps=[(\"SKB\", kb), (\"RandomForestClassifier\", clf_rf)])\n",
    "\n",
    "    rf_k = {\"SKB__k\": range(8, 11)}\n",
    "    rf_params = {'RandomForestClassifier__max_depth': [None, 5, 10],\n",
    "                  'RandomForestClassifier__n_estimators': [10, 15, 20, 25],\n",
    "                  'RandomForestClassifier__random_state': [42, 46, 60]}\n",
    "\n",
    "    rf_k.update(rf_params)\n",
    "\n",
    "#    enron.get_best_parameters_reports(pipe_rf, rf_k, features, labels)\n",
    "    grid_search = GridSearchCV(pipe_rf,\n",
    "                               rf_k,\n",
    "                               n_jobs=-1,\n",
    "                               cv=cv,\n",
    "                               scoring='f1')\n",
    "    grid_search.fit(features_train, labels_train)\n",
    "\n",
    "    p5aux.imprime_resultado(tabela_resultado,\n",
    "                            grid_search,\n",
    "                            rf_k,\n",
    "                            \"Random Forest\")\n"
   ]
  },
  {
   "cell_type": "code",
   "execution_count": 17,
   "metadata": {
    "collapsed": true
   },
   "outputs": [],
   "source": [
    "classificador_random_forest()"
   ]
  },
  {
   "cell_type": "code",
   "execution_count": 18,
   "metadata": {},
   "outputs": [
    {
     "name": "stdout",
     "output_type": "stream",
     "text": [
      "+---------------+-----------+------------------------------------------+\n",
      "| Classificador | Pontuacao | Atributos                                |\n",
      "+---------------+-----------+------------------------------------------+\n",
      "| Random Forest | 0.105     | RandomForestClassifier__max_depth: 5     |\n",
      "|               |           | RandomForestClassifier__n_estimators: 15 |\n",
      "|               |           | RandomForestClassifier__random_state: 60 |\n",
      "|               |           | SKB__k: 8                                |\n",
      "|               |           |                                          |\n",
      "+---------------+-----------+------------------------------------------+\n"
     ]
    }
   ],
   "source": [
    "print(tabela_resultado[3])"
   ]
  },
  {
   "cell_type": "markdown",
   "metadata": {},
   "source": [
    "#### Ada Boost\n",
    "\n",
    "Para o Adaboost foram retirados o PCA por motivos de desempenho."
   ]
  },
  {
   "cell_type": "code",
   "execution_count": 19,
   "metadata": {
    "collapsed": true
   },
   "outputs": [],
   "source": [
    "def classificador_ada_boost():\n",
    "\n",
    "    kb = SelectKBest()\n",
    "    clf_ab = AdaBoostClassifier()\n",
    "\n",
    "    pipe_ab = Pipeline(steps=[(\"SKB\", kb), (\"AdaBoostClassifier\", clf_ab)])\n",
    "\n",
    "    ab_k = {\"SKB__k\": range(8, 11)}\n",
    "    ab_params = {'AdaBoostClassifier__n_estimators': [10, 20, 30, 40],\n",
    "                 'AdaBoostClassifier__algorithm': ['SAMME', 'SAMME.R'],\n",
    "                 'AdaBoostClassifier__learning_rate': [.8, 1, 1.2, 1.5]}\n",
    "\n",
    "    ab_k.update(ab_params)\n",
    "\n",
    "    grid_search = GridSearchCV(pipe_ab,\n",
    "                               ab_k,\n",
    "                               n_jobs=-1,\n",
    "                               cv=cv,\n",
    "                               scoring='f1')\n",
    "    grid_search.fit(features_train, labels_train)\n",
    "    p5aux.imprime_resultado(tabela_resultado, grid_search,ab_k,\"Ada Boost\")\n"
   ]
  },
  {
   "cell_type": "code",
   "execution_count": 20,
   "metadata": {
    "collapsed": true
   },
   "outputs": [],
   "source": [
    "classificador_ada_boost()"
   ]
  },
  {
   "cell_type": "code",
   "execution_count": 21,
   "metadata": {},
   "outputs": [
    {
     "name": "stdout",
     "output_type": "stream",
     "text": [
      "+---------------+----------------+----------------------------------------+\n",
      "| Classificador | Pontuacao      | Atributos                              |\n",
      "+---------------+----------------+----------------------------------------+\n",
      "| Ada Boost     | 0.156412698413 | AdaBoostClassifier__algorithm: SAMME.R |\n",
      "|               |                | AdaBoostClassifier__learning_rate: 1.2 |\n",
      "|               |                | AdaBoostClassifier__n_estimators: 30   |\n",
      "|               |                | SKB__k: 8                              |\n",
      "|               |                |                                        |\n",
      "+---------------+----------------+----------------------------------------+\n"
     ]
    }
   ],
   "source": [
    "print(tabela_resultado[4])"
   ]
  },
  {
   "cell_type": "markdown",
   "metadata": {},
   "source": [
    "## Testes dos classificadores\n",
    "\n",
    "Para o teste dos classificadores foram utilizados os parametros encontrados no GridSearch. Foi modificado o algoritimo de testes fornecido pela Udacity para que a saida seja realizada via \"lista\". Com isso ficará mais fácil a visualização dos resultados.\n",
    "Novamente, para cada teste foi criado uma procedure (def) que será explicitado a seguir."
   ]
  },
  {
   "cell_type": "markdown",
   "metadata": {},
   "source": [
    "#### Logistic Regression"
   ]
  },
  {
   "cell_type": "code",
   "execution_count": 7,
   "metadata": {
    "collapsed": true
   },
   "outputs": [],
   "source": [
    "def teste_logistic_regression():\n",
    "\n",
    "    kbest_features = p5aux.k_best(my_dataset, features_list, 9)\n",
    "    clf_lr = Pipeline(steps=[('scaler',\n",
    "                                StandardScaler()),\n",
    "                                ('pca',\n",
    "                                PCA(n_components=7, whiten=False)),\n",
    "                                    ('classifier',\n",
    "                                    LogisticRegression(tol=0.01,\n",
    "                                                       C=1e-06,\n",
    "                                                       penalty='l2',\n",
    "                                                       random_state=42))])\n",
    "    lista = testador.test_classifier(clf_lr, my_dataset, kbest_features)\n",
    "\n",
    "    #tabela_teste.add_column (\"Logistic Regression\",lista)\n"
   ]
  },
  {
   "cell_type": "code",
   "execution_count": 8,
   "metadata": {},
   "outputs": [],
   "source": [
    "teste_logistic_regression()"
   ]
  },
  {
   "cell_type": "code",
   "execution_count": 39,
   "metadata": {
    "collapsed": true
   },
   "outputs": [],
   "source": [
    "def teste_logistic_regression():\n",
    "\n",
    "    kbest_features = p5aux.k_best(my_dataset, features_list, 9)\n",
    "    clf_lr = Pipeline(steps=[('scaler',\n",
    "                                StandardScaler()),\n",
    "                                ('pca',\n",
    "                                PCA(n_components=4, whiten=False)),\n",
    "                                    ('classifier',\n",
    "                                    LogisticRegression(tol=0.001,\n",
    "                                                       C=1e-08,\n",
    "                                                       penalty='l2',\n",
    "                                                       random_state=42))])\n",
    "    lista = testador.test_classifier(clf_lr, my_dataset, kbest_features)\n",
    "\n",
    "    tabela_teste.add_column (\"Logistic Regression\",lista)"
   ]
  },
  {
   "cell_type": "code",
   "execution_count": 49,
   "metadata": {
    "collapsed": true
   },
   "outputs": [],
   "source": [
    "teste_logistic_regression()"
   ]
  },
  {
   "cell_type": "code",
   "execution_count": 50,
   "metadata": {},
   "outputs": [
    {
     "name": "stdout",
     "output_type": "stream",
     "text": [
      "+-------------------+---------------------+\n",
      "|   Classificador   | Logistic Regression |\n",
      "+-------------------+---------------------+\n",
      "|      Accuracy     |    0.832066666667   |\n",
      "+-------------------+---------------------+\n",
      "|     Precision     |    0.380359612725   |\n",
      "+-------------------+---------------------+\n",
      "|       Recal       |        0.4125       |\n",
      "+-------------------+---------------------+\n",
      "|         f1        |    0.395778364116   |\n",
      "+-------------------+---------------------+\n",
      "|         f2        |    0.405644606156   |\n",
      "+-------------------+---------------------+\n",
      "| Total Predictions |        15000        |\n",
      "+-------------------+---------------------+\n",
      "|   true_positives  |         825         |\n",
      "+-------------------+---------------------+\n",
      "|  false Positives  |         1344        |\n",
      "+-------------------+---------------------+\n",
      "|  false Negatives  |         1175        |\n",
      "+-------------------+---------------------+\n",
      "|   true_negatives  |        11656        |\n",
      "+-------------------+---------------------+\n"
     ]
    }
   ],
   "source": [
    "print(tabela_teste)"
   ]
  },
  {
   "cell_type": "markdown",
   "metadata": {},
   "source": [
    "#### Suport Vector Qualifier"
   ]
  },
  {
   "cell_type": "code",
   "execution_count": 52,
   "metadata": {
    "collapsed": true
   },
   "outputs": [],
   "source": [
    "def teste_svc():\n",
    "\n",
    "    kbest_features = p5aux.k_best(my_dataset, features_list, 9)\n",
    "\n",
    "    clf_svc = Pipeline(steps=[\n",
    "            ('scaler', StandardScaler()),\n",
    "            ('pca', PCA(n_components=7, whiten=True)),\n",
    "            ('classifier', SVC(C=1000, gamma=.001, kernel='rbf'))])\n",
    "    lista = testador.test_classifier(clf_svc, my_dataset, kbest_features)\n",
    "    tabela_teste.add_column (\"SVC\",lista)\n"
   ]
  },
  {
   "cell_type": "code",
   "execution_count": 53,
   "metadata": {
    "collapsed": true
   },
   "outputs": [],
   "source": [
    "teste_svc()"
   ]
  },
  {
   "cell_type": "code",
   "execution_count": 54,
   "metadata": {},
   "outputs": [
    {
     "name": "stdout",
     "output_type": "stream",
     "text": [
      "+-------------------+-----------------+\n",
      "|   Classificador   |       SVC       |\n",
      "+-------------------+-----------------+\n",
      "|      Accuracy     |  0.868266666667 |\n",
      "+-------------------+-----------------+\n",
      "|     Precision     |  0.539215686275 |\n",
      "+-------------------+-----------------+\n",
      "|       Recal       |      0.0825     |\n",
      "+-------------------+-----------------+\n",
      "|         f1        |  0.143104943625 |\n",
      "+-------------------+-----------------+\n",
      "|         f2        | 0.0993257885866 |\n",
      "+-------------------+-----------------+\n",
      "| Total Predictions |      15000      |\n",
      "+-------------------+-----------------+\n",
      "|   true_positives  |       165       |\n",
      "+-------------------+-----------------+\n",
      "|  false Positives  |       141       |\n",
      "+-------------------+-----------------+\n",
      "|  false Negatives  |       1835      |\n",
      "+-------------------+-----------------+\n",
      "|   true_negatives  |      12859      |\n",
      "+-------------------+-----------------+\n"
     ]
    }
   ],
   "source": [
    "print(tabela_teste.get_string(fields=[\"Classificador\",\"SVC\"]))"
   ]
  },
  {
   "cell_type": "markdown",
   "metadata": {},
   "source": [
    "#### Decision Tree"
   ]
  },
  {
   "cell_type": "code",
   "execution_count": 55,
   "metadata": {
    "collapsed": true
   },
   "outputs": [],
   "source": [
    "\n",
    "def teste_decision_tree():\n",
    "\n",
    "    kbest_features = p5aux.k_best(my_dataset, features_list, 8)\n",
    "\n",
    "    clf_dt = Pipeline(steps=[\n",
    "        ('scaler', StandardScaler()),\n",
    "        ('pca', PCA(n_components=4, whiten=True)),\n",
    "        ('classifier', DecisionTreeClassifier(criterion='gini',\n",
    "                                              min_samples_leaf=2,\n",
    "                                              min_samples_split=6,\n",
    "                                              random_state=42,\n",
    "                                              max_depth=None))\n",
    "    ])\n",
    "    lista = testador.test_classifier(clf_dt, my_dataset, kbest_features)\n",
    "    tabela_teste.add_column (\"Decision Tree\", lista)\n"
   ]
  },
  {
   "cell_type": "code",
   "execution_count": 56,
   "metadata": {
    "collapsed": true
   },
   "outputs": [],
   "source": [
    "teste_decision_tree()"
   ]
  },
  {
   "cell_type": "code",
   "execution_count": 57,
   "metadata": {},
   "outputs": [
    {
     "name": "stdout",
     "output_type": "stream",
     "text": [
      "+-------------------+----------------+\n",
      "|   Classificador   | Decision Tree  |\n",
      "+-------------------+----------------+\n",
      "|      Accuracy     |     0.8158     |\n",
      "+-------------------+----------------+\n",
      "|     Precision     | 0.228082679971 |\n",
      "+-------------------+----------------+\n",
      "|       Recal       |      0.16      |\n",
      "+-------------------+----------------+\n",
      "|         f1        | 0.188069350573 |\n",
      "+-------------------+----------------+\n",
      "|         f2        | 0.170158460066 |\n",
      "+-------------------+----------------+\n",
      "| Total Predictions |     15000      |\n",
      "+-------------------+----------------+\n",
      "|   true_positives  |      320       |\n",
      "+-------------------+----------------+\n",
      "|  false Positives  |      1083      |\n",
      "+-------------------+----------------+\n",
      "|  false Negatives  |      1680      |\n",
      "+-------------------+----------------+\n",
      "|   true_negatives  |     11917      |\n",
      "+-------------------+----------------+\n"
     ]
    }
   ],
   "source": [
    "print(tabela_teste.get_string(fields=[\"Classificador\",\"Decision Tree\"]))"
   ]
  },
  {
   "cell_type": "markdown",
   "metadata": {},
   "source": [
    "#### Random Forrest"
   ]
  },
  {
   "cell_type": "code",
   "execution_count": 58,
   "metadata": {
    "collapsed": true
   },
   "outputs": [],
   "source": [
    "def teste_random_forrest():\n",
    "\n",
    "    kbest_features = p5aux.k_best(my_dataset, features_list, 8)\n",
    "\n",
    "    clf_rf = Pipeline(steps=[\n",
    "        ('scaler', StandardScaler()),\n",
    "        ('classifier', RandomForestClassifier(max_depth=5,\n",
    "                                              n_estimators=15,\n",
    "                                              random_state=60))\n",
    "    ])\n",
    "    lista = testador.test_classifier(clf_rf, my_dataset, kbest_features)\n",
    "    tabela_teste.add_column (\"Random Forest\",lista)\n"
   ]
  },
  {
   "cell_type": "code",
   "execution_count": 59,
   "metadata": {
    "collapsed": true
   },
   "outputs": [],
   "source": [
    "teste_random_forrest()"
   ]
  },
  {
   "cell_type": "code",
   "execution_count": 60,
   "metadata": {},
   "outputs": [
    {
     "name": "stdout",
     "output_type": "stream",
     "text": [
      "+-------------------+----------------+\n",
      "|   Classificador   | Random Forest  |\n",
      "+-------------------+----------------+\n",
      "|      Accuracy     | 0.861266666667 |\n",
      "+-------------------+----------------+\n",
      "|     Precision     | 0.447876447876 |\n",
      "+-------------------+----------------+\n",
      "|       Recal       |     0.174      |\n",
      "+-------------------+----------------+\n",
      "|         f1        | 0.250630176449 |\n",
      "+-------------------+----------------+\n",
      "|         f2        | 0.198245414151 |\n",
      "+-------------------+----------------+\n",
      "| Total Predictions |     15000      |\n",
      "+-------------------+----------------+\n",
      "|   true_positives  |      348       |\n",
      "+-------------------+----------------+\n",
      "|  false Positives  |      429       |\n",
      "+-------------------+----------------+\n",
      "|  false Negatives  |      1652      |\n",
      "+-------------------+----------------+\n",
      "|   true_negatives  |     12571      |\n",
      "+-------------------+----------------+\n"
     ]
    }
   ],
   "source": [
    "print(tabela_teste.get_string(fields=[\"Classificador\",\"Random Forest\"]))"
   ]
  },
  {
   "cell_type": "markdown",
   "metadata": {},
   "source": [
    "#### Ada Boost"
   ]
  },
  {
   "cell_type": "code",
   "execution_count": 61,
   "metadata": {
    "collapsed": true
   },
   "outputs": [],
   "source": [
    "def teste_ada_boost():\n",
    "\n",
    "    kbest_features = p5aux.k_best(my_dataset, features_list, 8)\n",
    "\n",
    "    clf_ab = Pipeline(steps=[\n",
    "            ('scaler', StandardScaler()),\n",
    "            ('classifier', AdaBoostClassifier(learning_rate=1.2,\n",
    "                                              n_estimators=30,\n",
    "                                              algorithm='SAMME.R'))\n",
    "        ])\n",
    "\n",
    "    lista = testador.test_classifier(clf_ab, my_dataset, kbest_features)\n",
    "    tabela_teste.add_column (\"Ada Boost\", lista)"
   ]
  },
  {
   "cell_type": "code",
   "execution_count": 62,
   "metadata": {
    "collapsed": true
   },
   "outputs": [],
   "source": [
    "teste_ada_boost()"
   ]
  },
  {
   "cell_type": "code",
   "execution_count": 63,
   "metadata": {},
   "outputs": [
    {
     "name": "stdout",
     "output_type": "stream",
     "text": [
      "+-------------------+----------------+\n",
      "|   Classificador   |   Ada Boost    |\n",
      "+-------------------+----------------+\n",
      "|      Accuracy     | 0.825933333333 |\n",
      "+-------------------+----------------+\n",
      "|     Precision     | 0.299934512115 |\n",
      "+-------------------+----------------+\n",
      "|       Recal       |     0.229      |\n",
      "+-------------------+----------------+\n",
      "|         f1        | 0.259710802382 |\n",
      "+-------------------+----------------+\n",
      "|         f2        | 0.240369476225 |\n",
      "+-------------------+----------------+\n",
      "| Total Predictions |     15000      |\n",
      "+-------------------+----------------+\n",
      "|   true_positives  |      458       |\n",
      "+-------------------+----------------+\n",
      "|  false Positives  |      1069      |\n",
      "+-------------------+----------------+\n",
      "|  false Negatives  |      1542      |\n",
      "+-------------------+----------------+\n",
      "|   true_negatives  |     11931      |\n",
      "+-------------------+----------------+\n"
     ]
    }
   ],
   "source": [
    "print(tabela_teste.get_string(fields=[\"Classificador\",\"Ada Boost\"]))"
   ]
  },
  {
   "cell_type": "markdown",
   "metadata": {},
   "source": [
    "### Avaliação dos classificadores\n",
    "\n",
    "Para avaliarmos os classificadores utilizaremos os seguintes indicadores realizados com os testes\n",
    "\n",
    "* True Posive(TP): Pessoa é positiva e foi classificado como positiva \n",
    "* True Negative (TN): Pessoa é negativa e foi classificado como negativa\n",
    "* False Positive (FP): Pessoa é negativa e foi classificado como positiva\n",
    "* False Negative (FN): Pessoa é positiva mas foi classificado com o negativa\n",
    "\n",
    "Precision: Para todos os itens que foram realmente positivos, qual % foi classificada como positiva e se dará pela formula a seguir"
   ]
  },
  {
   "cell_type": "markdown",
   "metadata": {},
   "source": [
    "$$Precision = \\frac{TP}{(TP+FP)}$$"
   ]
  },
  {
   "cell_type": "markdown",
   "metadata": {},
   "source": [
    "Neste caso uma alta porcentagem (próximo a 1) significa que os POIS identificados pelo classificador tendem a ser corretos."
   ]
  },
  {
   "cell_type": "markdown",
   "metadata": {},
   "source": [
    "Recall: De todos os itens classificados como positivo, quantos realmente são positivos. Um alto valor (próximo de 1) significa que o classificador tem uma boa chance de identificar o POI."
   ]
  },
  {
   "cell_type": "markdown",
   "metadata": {},
   "source": [
    "$$Recall = \\frac{TP}{(TP+FN)}$$"
   ]
  },
  {
   "cell_type": "markdown",
   "metadata": {},
   "source": [
    "F1-Score: é uma metrica entre recall e precision e varia de 0 a 1, sendo 1 o melhor caso"
   ]
  },
  {
   "cell_type": "markdown",
   "metadata": {},
   "source": [
    "$$F1_Score = \\frac{2*Recall*Precision}{(Recall + Precision)}$$"
   ]
  },
  {
   "cell_type": "markdown",
   "metadata": {},
   "source": [
    "Ao verificar a tabela dos resultados de cada classificador temos:"
   ]
  },
  {
   "cell_type": "code",
   "execution_count": 64,
   "metadata": {},
   "outputs": [
    {
     "name": "stdout",
     "output_type": "stream",
     "text": [
      "+-------------------+---------------------+-----------------+----------------+\n",
      "|   Classificador   | Logistic Regression |       SVC       | Decision Tree  |\n",
      "+-------------------+---------------------+-----------------+----------------+\n",
      "|      Accuracy     |    0.832066666667   |  0.868266666667 |     0.8158     |\n",
      "+-------------------+---------------------+-----------------+----------------+\n",
      "|     Precision     |    0.380359612725   |  0.539215686275 | 0.228082679971 |\n",
      "+-------------------+---------------------+-----------------+----------------+\n",
      "|       Recal       |        0.4125       |      0.0825     |      0.16      |\n",
      "+-------------------+---------------------+-----------------+----------------+\n",
      "|         f1        |    0.395778364116   |  0.143104943625 | 0.188069350573 |\n",
      "+-------------------+---------------------+-----------------+----------------+\n",
      "|         f2        |    0.405644606156   | 0.0993257885866 | 0.170158460066 |\n",
      "+-------------------+---------------------+-----------------+----------------+\n",
      "| Total Predictions |        15000        |      15000      |     15000      |\n",
      "+-------------------+---------------------+-----------------+----------------+\n",
      "|   true_positives  |         825         |       165       |      320       |\n",
      "+-------------------+---------------------+-----------------+----------------+\n",
      "|  false Positives  |         1344        |       141       |      1083      |\n",
      "+-------------------+---------------------+-----------------+----------------+\n",
      "|  false Negatives  |         1175        |       1835      |      1680      |\n",
      "+-------------------+---------------------+-----------------+----------------+\n",
      "|   true_negatives  |        11656        |      12859      |     11917      |\n",
      "+-------------------+---------------------+-----------------+----------------+\n",
      "+-------------------+----------------+----------------+\n",
      "|   Classificador   | Random Forest  |   Ada Boost    |\n",
      "+-------------------+----------------+----------------+\n",
      "|      Accuracy     | 0.861266666667 | 0.825933333333 |\n",
      "+-------------------+----------------+----------------+\n",
      "|     Precision     | 0.447876447876 | 0.299934512115 |\n",
      "+-------------------+----------------+----------------+\n",
      "|       Recal       |     0.174      |     0.229      |\n",
      "+-------------------+----------------+----------------+\n",
      "|         f1        | 0.250630176449 | 0.259710802382 |\n",
      "+-------------------+----------------+----------------+\n",
      "|         f2        | 0.198245414151 | 0.240369476225 |\n",
      "+-------------------+----------------+----------------+\n",
      "| Total Predictions |     15000      |     15000      |\n",
      "+-------------------+----------------+----------------+\n",
      "|   true_positives  |      348       |      458       |\n",
      "+-------------------+----------------+----------------+\n",
      "|  false Positives  |      429       |      1069      |\n",
      "+-------------------+----------------+----------------+\n",
      "|  false Negatives  |      1652      |      1542      |\n",
      "+-------------------+----------------+----------------+\n",
      "|   true_negatives  |     12571      |     11931      |\n",
      "+-------------------+----------------+----------------+\n"
     ]
    }
   ],
   "source": [
    "print(tabela_teste.get_string(fields=[\"Classificador\",\n",
    "                                      \"Logistic Regression\",\n",
    "                                      \"SVC\",\n",
    "                                      \"Decision Tree\",\n",
    "                                     ]))\n",
    "\n",
    "print(tabela_teste.get_string(fields=[\"Classificador\",\n",
    "                                      \"Random Forest\",\n",
    "                                      \"Ada Boost\"\n",
    "                                     ]))"
   ]
  },
  {
   "cell_type": "markdown",
   "metadata": {},
   "source": [
    "A partir da tabela acima temos os melhores classificadores por indicadores:\n",
    "* Melhor Acuracia: SVC (0.87)\n",
    "* Melhor Precision: SVC (0.53)\n",
    "* Melhor Recal: Logistic Regression (0.41)\n",
    "* Melhor F1: Logistic Regression (0.39)\n"
   ]
  },
  {
   "cell_type": "markdown",
   "metadata": {},
   "source": [
    "De acordo com as rubricas do projeto, a performance do classificador deve ter o recal e precision com pelo menos 0.3. Então escolhemos o Logistic Regression como classificador.\n",
    "\n",
    "\n"
   ]
  },
  {
   "cell_type": "markdown",
   "metadata": {},
   "source": [
    "<span style=\"color:red\">Correção: Para atender os requisitos de ter recall e precision acima de 0.3 era necessário fazer a procedure 'teste_logistic_regression()' retornar também as features list escolhidas com o algoritimo k_best. Na versão inicial do projeto, a featurelist que foi utilizada na função \"dump_classifier_and_data\" era uma featureList completa e não com os melhores parametros achadas na função GridSearch, com k= 9. </span>"
   ]
  },
  {
   "cell_type": "markdown",
   "metadata": {},
   "source": [
    "# SELEÇÃO DE CARACTERISTICAS - V3\n",
    "\n",
    ">Seleção de características univariadas ou recursivas foi feita ou as características foram escolhidas manualmente (diferente combinações de características foram feitas e o desempenho foi documentado para cada uma delas). Características selecionadas são documentadas e o número selecionado foi justificado. Para um algoritmo que suporta a verificação da importância das variáveis (ex. decision tree) ou pontuação das características (ex. SelectKBest), estas estão documentadas também.\n",
    "\n",
    ">Eu vi que você escolhe o melhor K, mas é preciso mostrar como foi o desempenho com os outros valores. Você pode fazer isso com um gráfico:"
   ]
  },
  {
   "cell_type": "markdown",
   "metadata": {},
   "source": [
    "Não sei porque foi pedido isso na segunda revisão, sendo que na primeira este quesito havia sido aprovado.\n",
    "Não vejo também necessidade de testar o classificador para cada valor de K, uma vez que o GridSearch já retorna o melhor valor K.\n",
    "A idéia do revisor até é muito valida para a validação dos valores encontrados e sua devida interpretação. Porém essa demanda não faz parte do escopo do trabalho. Fico no receio com a falta de padronização das correções, pois se a cada revisão o escopo é aumentado, o projeto nunca terminará.\n",
    "Para não entrar em conflito e passar neste projeto, a seguir temos as variações de todos os classificadores de acordo com a variação do K.\n",
    "Para isso foi modificado todas as procedures de teste, recebendo como paramentro o valor de K e guardando em uma planilha panda."
   ]
  },
  {
   "cell_type": "code",
   "execution_count": 10,
   "metadata": {
    "collapsed": true
   },
   "outputs": [],
   "source": [
    "def teste_logistic_regression_k(k):\n",
    "\n",
    "    kbest_features = p5aux.k_best(my_dataset, features_list, k)\n",
    "    clf_lr = Pipeline(steps=[('scaler',\n",
    "                                StandardScaler()),\n",
    "                                ('pca',\n",
    "                                PCA(n_components=k, whiten=False)),\n",
    "                                    ('classifier',\n",
    "                                    LogisticRegression(tol=0.001,\n",
    "                                                       C=1e-06,\n",
    "                                                       penalty='l2',\n",
    "                                                       random_state=42))])\n",
    "    lista = testador.test_classifier(clf_lr, my_dataset, kbest_features)\n",
    "\n",
    "    p5aux.insere_panda(tabela_panda,\"Logistic Regression\",lista,k)"
   ]
  },
  {
   "cell_type": "code",
   "execution_count": 11,
   "metadata": {
    "collapsed": true
   },
   "outputs": [],
   "source": [
    "tabela_panda = p5aux.inicia_pandas_testes()"
   ]
  },
  {
   "cell_type": "code",
   "execution_count": 12,
   "metadata": {
    "collapsed": true
   },
   "outputs": [],
   "source": [
    "def loop_logistic_regretion():\n",
    "    for i in range (2,10):\n",
    "        teste_logistic_regression_k(i)"
   ]
  },
  {
   "cell_type": "code",
   "execution_count": 13,
   "metadata": {
    "collapsed": true
   },
   "outputs": [],
   "source": [
    "loop_logistic_regretion()"
   ]
  },
  {
   "cell_type": "code",
   "execution_count": 14,
   "metadata": {},
   "outputs": [
    {
     "name": "stdout",
     "output_type": "stream",
     "text": [
      "         Classificador  k  Accuracy  Precision   Recal        f1        f2  \\\n",
      "1  Logistic Regression  2  0.863231   0.675633  0.2135  0.324468  0.247335   \n",
      "2  Logistic Regression  3  0.856231   0.580764  0.2355  0.335112  0.267280   \n",
      "3  Logistic Regression  4  0.841308   0.466877  0.2220  0.300915  0.248017   \n",
      "4  Logistic Regression  5  0.841500   0.424221  0.3065  0.355878  0.324510   \n",
      "5  Logistic Regression  6  0.825929   0.367976  0.3045  0.333242  0.315381   \n",
      "6  Logistic Regression  7  0.848267   0.421412  0.3700  0.394036  0.379254   \n",
      "7  Logistic Regression  8  0.831533   0.374344  0.3925  0.383207  0.388729   \n",
      "8  Logistic Regression  9  0.828800   0.370082  0.4045  0.386527  0.397114   \n",
      "\n",
      "  Total Predictions true_positives false Positives false Negatives  \\\n",
      "1             13000            427             205            1573   \n",
      "2             13000            471             340            1529   \n",
      "3             13000            444             507            1556   \n",
      "4             14000            613             832            1387   \n",
      "5             14000            609            1046            1391   \n",
      "6             15000            740            1016            1260   \n",
      "7             15000            785            1312            1215   \n",
      "8             15000            809            1377            1191   \n",
      "\n",
      "  true_negatives  \n",
      "1          10795  \n",
      "2          10660  \n",
      "3          10493  \n",
      "4          11168  \n",
      "5          10954  \n",
      "6          11984  \n",
      "7          11688  \n",
      "8          11623  \n"
     ]
    }
   ],
   "source": [
    "print tabela_panda"
   ]
  },
  {
   "cell_type": "code",
   "execution_count": 15,
   "metadata": {
    "collapsed": true
   },
   "outputs": [],
   "source": [
    "def teste_svc_k(k):\n",
    "\n",
    "    kbest_features = p5aux.k_best(my_dataset, features_list, k)\n",
    "\n",
    "    clf_svc = Pipeline(steps=[\n",
    "            ('scaler', StandardScaler()),\n",
    "            ('pca', PCA(n_components=2, whiten=True)),\n",
    "            ('classifier', SVC(C=1000, gamma=.001, kernel='rbf'))])\n",
    "    lista = testador.test_classifier(clf_svc, my_dataset, kbest_features)\n",
    "    #tabela_teste.add_column (\"SVC\",lista)\n",
    "    p5aux.insere_panda(tabela_panda,\"svc\",lista,k)"
   ]
  },
  {
   "cell_type": "code",
   "execution_count": 16,
   "metadata": {
    "collapsed": true
   },
   "outputs": [],
   "source": [
    "def loop_svc():\n",
    "    for i in range (2,10):\n",
    "        teste_svc_k(i)"
   ]
  },
  {
   "cell_type": "code",
   "execution_count": 17,
   "metadata": {
    "collapsed": true
   },
   "outputs": [],
   "source": [
    "loop_svc()"
   ]
  },
  {
   "cell_type": "code",
   "execution_count": 18,
   "metadata": {
    "collapsed": true
   },
   "outputs": [],
   "source": [
    "classi = tabela_panda['Classificador'] == 'svc'"
   ]
  },
  {
   "cell_type": "code",
   "execution_count": 19,
   "metadata": {},
   "outputs": [
    {
     "name": "stdout",
     "output_type": "stream",
     "text": [
      "   Classificador  k  Accuracy  Precision   Recal        f1        f2  \\\n",
      "9            svc  2  0.860231   0.942029  0.0975  0.176710  0.118801   \n",
      "10           svc  3  0.849538   0.594017  0.0695  0.124440  0.084406   \n",
      "11           svc  4  0.854846   0.944882  0.0600  0.112835  0.073828   \n",
      "12           svc  5  0.864357   0.946903  0.0535  0.101278  0.065944   \n",
      "13           svc  6  0.861071   0.720000  0.0450  0.084706  0.055385   \n",
      "14           svc  7  0.870600   0.692810  0.0530  0.098467  0.065007   \n",
      "15           svc  8  0.870600   0.728682  0.0470  0.088304  0.057818   \n",
      "16           svc  9  0.871067   0.770492  0.0470  0.088596  0.057868   \n",
      "\n",
      "   Total Predictions true_positives false Positives false Negatives  \\\n",
      "9              13000            195              12            1805   \n",
      "10             13000            139              95            1861   \n",
      "11             13000            120               7            1880   \n",
      "12             14000            107               6            1893   \n",
      "13             14000             90              35            1910   \n",
      "14             15000            106              47            1894   \n",
      "15             15000             94              35            1906   \n",
      "16             15000             94              28            1906   \n",
      "\n",
      "   true_negatives  \n",
      "9           10988  \n",
      "10          10905  \n",
      "11          10993  \n",
      "12          11994  \n",
      "13          11965  \n",
      "14          12953  \n",
      "15          12965  \n",
      "16          12972  \n"
     ]
    }
   ],
   "source": [
    "print tabela_panda[classi]"
   ]
  },
  {
   "cell_type": "code",
   "execution_count": 20,
   "metadata": {
    "collapsed": true
   },
   "outputs": [],
   "source": [
    "def teste_decision_tree_k(k):\n",
    "\n",
    "    kbest_features = p5aux.k_best(my_dataset, features_list, k)\n",
    "\n",
    "    clf_dt = Pipeline(steps=[\n",
    "        ('scaler', StandardScaler()),\n",
    "        ('pca', PCA(n_components=2, whiten=True)),\n",
    "        ('classifier', DecisionTreeClassifier(criterion='gini',\n",
    "                                              min_samples_leaf=2,\n",
    "                                              min_samples_split=6,\n",
    "                                              random_state=42,\n",
    "                                              max_depth=None))\n",
    "    ])\n",
    "    lista = testador.test_classifier(clf_dt, my_dataset, kbest_features)\n",
    "    p5aux.insere_panda(tabela_panda,\"Decision Tree\",lista,k)\n",
    "   # tabela_teste.add_column (\"Decision Tree\", lista)\n"
   ]
  },
  {
   "cell_type": "code",
   "execution_count": 21,
   "metadata": {
    "collapsed": true
   },
   "outputs": [],
   "source": [
    "def loop_dt():\n",
    "     for i in range (2,10):\n",
    "        teste_decision_tree_k(i)"
   ]
  },
  {
   "cell_type": "code",
   "execution_count": 22,
   "metadata": {
    "collapsed": true
   },
   "outputs": [],
   "source": [
    "loop_dt()"
   ]
  },
  {
   "cell_type": "code",
   "execution_count": 24,
   "metadata": {
    "collapsed": true
   },
   "outputs": [],
   "source": [
    "classi = tabela_panda['Classificador'] == 'Decision Tree'"
   ]
  },
  {
   "cell_type": "code",
   "execution_count": 25,
   "metadata": {},
   "outputs": [
    {
     "name": "stdout",
     "output_type": "stream",
     "text": [
      "    Classificador  k  Accuracy  Precision   Recal        f1        f2  \\\n",
      "17  Decision Tree  2  0.818538   0.367528  0.2490  0.296870  0.266168   \n",
      "18  Decision Tree  3  0.830923   0.429083  0.2995  0.352768  0.318753   \n",
      "19  Decision Tree  4  0.809308   0.333101  0.2390  0.278311  0.253312   \n",
      "20  Decision Tree  5  0.823429   0.349873  0.2750  0.307951  0.287296   \n",
      "21  Decision Tree  6  0.812429   0.323960  0.2880  0.304923  0.294539   \n",
      "22  Decision Tree  7  0.825733   0.326749  0.2895  0.306999  0.296255   \n",
      "23  Decision Tree  8  0.811067   0.154801  0.0935  0.116584  0.101542   \n",
      "24  Decision Tree  9  0.788667   0.139334  0.1130  0.124793  0.117439   \n",
      "\n",
      "   Total Predictions true_positives false Positives false Negatives  \\\n",
      "17             13000            498             857            1502   \n",
      "18             13000            599             797            1401   \n",
      "19             13000            478             957            1522   \n",
      "20             14000            550            1022            1450   \n",
      "21             14000            576            1202            1424   \n",
      "22             15000            579            1193            1421   \n",
      "23             15000            187            1021            1813   \n",
      "24             15000            226            1396            1774   \n",
      "\n",
      "   true_negatives  \n",
      "17          10143  \n",
      "18          10203  \n",
      "19          10043  \n",
      "20          10978  \n",
      "21          10798  \n",
      "22          11807  \n",
      "23          11979  \n",
      "24          11604  \n"
     ]
    }
   ],
   "source": [
    "print tabela_panda[classi]"
   ]
  },
  {
   "cell_type": "code",
   "execution_count": 26,
   "metadata": {
    "collapsed": true
   },
   "outputs": [],
   "source": [
    "def teste_random_forrest_k(k):\n",
    "\n",
    "    kbest_features = p5aux.k_best(my_dataset, features_list, k)\n",
    "\n",
    "    clf_rf = Pipeline(steps=[\n",
    "        ('scaler', StandardScaler()),\n",
    "        ('classifier', RandomForestClassifier(max_depth=5,\n",
    "                                              n_estimators=15,\n",
    "                                              random_state=60))\n",
    "    ])\n",
    "    lista = testador.test_classifier(clf_rf, my_dataset, kbest_features)\n",
    "    #tabela_teste.add_column (\"Random Forest\",lista)\n",
    "    p5aux.insere_panda(tabela_panda,\"Random Forrest\",lista,k)\n"
   ]
  },
  {
   "cell_type": "code",
   "execution_count": 27,
   "metadata": {
    "collapsed": true
   },
   "outputs": [],
   "source": [
    "def loop_rf():\n",
    "     for i in range (2,10):\n",
    "        teste_random_forrest_k(i)"
   ]
  },
  {
   "cell_type": "code",
   "execution_count": 28,
   "metadata": {
    "collapsed": true
   },
   "outputs": [],
   "source": [
    "loop_rf()"
   ]
  },
  {
   "cell_type": "code",
   "execution_count": 29,
   "metadata": {},
   "outputs": [
    {
     "name": "stdout",
     "output_type": "stream",
     "text": [
      "     Classificador  k  Accuracy  Precision   Recal        f1        f2  \\\n",
      "25  Random Forrest  2  0.838615   0.443548  0.1925  0.268480  0.217073   \n",
      "26  Random Forrest  3  0.865769   0.638738  0.2935  0.402193  0.329073   \n",
      "27  Random Forrest  4  0.844308   0.488119  0.2465  0.327575  0.273585   \n",
      "28  Random Forrest  5  0.848643   0.438214  0.2110  0.284846  0.235412   \n",
      "29  Random Forrest  6  0.847500   0.424242  0.1890  0.261501  0.212575   \n",
      "30  Random Forrest  7  0.857667   0.416357  0.1680  0.239401  0.190757   \n",
      "31  Random Forrest  8  0.861267   0.447876  0.1740  0.250630  0.198245   \n",
      "32  Random Forrest  9  0.857467   0.415648  0.1700  0.241306  0.192787   \n",
      "\n",
      "   Total Predictions true_positives false Positives false Negatives  \\\n",
      "25             13000            385             483            1615   \n",
      "26             13000            587             332            1413   \n",
      "27             13000            493             517            1507   \n",
      "28             14000            422             541            1578   \n",
      "29             14000            378             513            1622   \n",
      "30             15000            336             471            1664   \n",
      "31             15000            348             429            1652   \n",
      "32             15000            340             478            1660   \n",
      "\n",
      "   true_negatives  \n",
      "25          10517  \n",
      "26          10668  \n",
      "27          10483  \n",
      "28          11459  \n",
      "29          11487  \n",
      "30          12529  \n",
      "31          12571  \n",
      "32          12522  \n"
     ]
    }
   ],
   "source": [
    "classi = tabela_panda['Classificador'] == 'Random Forrest'\n",
    "print tabela_panda[classi]"
   ]
  },
  {
   "cell_type": "code",
   "execution_count": 30,
   "metadata": {
    "collapsed": true
   },
   "outputs": [],
   "source": [
    "def teste_ada_boost_k(k):\n",
    "\n",
    "    kbest_features = p5aux.k_best(my_dataset, features_list, k)\n",
    "\n",
    "    clf_ab = Pipeline(steps=[\n",
    "            ('scaler', StandardScaler()),\n",
    "            ('classifier', AdaBoostClassifier(learning_rate=1.2,\n",
    "                                              n_estimators=30,\n",
    "                                              algorithm='SAMME.R'))\n",
    "        ])\n",
    "\n",
    "    lista = testador.test_classifier(clf_ab, my_dataset, kbest_features)\n",
    "    #tabela_teste.add_column (\"Ada Boost\", lista)\n",
    "    p5aux.insere_panda(tabela_panda,\"Ada Boost\",lista,k)"
   ]
  },
  {
   "cell_type": "code",
   "execution_count": 31,
   "metadata": {
    "collapsed": true
   },
   "outputs": [],
   "source": [
    "def loop_adaboost():\n",
    "     for i in range (2,10):\n",
    "        teste_ada_boost_k(i)"
   ]
  },
  {
   "cell_type": "code",
   "execution_count": 32,
   "metadata": {
    "collapsed": true
   },
   "outputs": [],
   "source": [
    "loop_adaboost()"
   ]
  },
  {
   "cell_type": "code",
   "execution_count": 33,
   "metadata": {},
   "outputs": [
    {
     "name": "stdout",
     "output_type": "stream",
     "text": [
      "   Classificador  k  Accuracy  Precision   Recal        f1        f2  \\\n",
      "33     Ada Boost  2  0.815308   0.360473  0.2590  0.301426  0.274452   \n",
      "34     Ada Boost  3  0.809154   0.356589  0.2990  0.325265  0.308980   \n",
      "35     Ada Boost  4  0.808769   0.336913  0.2510  0.287679  0.264489   \n",
      "36     Ada Boost  5  0.814857   0.324019  0.2725  0.296035  0.281450   \n",
      "37     Ada Boost  6  0.809643   0.298851  0.2470  0.270463  0.255879   \n",
      "38     Ada Boost  7  0.827467   0.303476  0.2270  0.259725  0.239048   \n",
      "39     Ada Boost  8  0.825933   0.300718  0.2305  0.260968  0.241792   \n",
      "40     Ada Boost  9  0.822533   0.302741  0.2540  0.276237  0.262451   \n",
      "\n",
      "   Total Predictions true_positives false Positives false Negatives  \\\n",
      "33             13000            518             919            1482   \n",
      "34             13000            598            1079            1402   \n",
      "35             13000            502             988            1498   \n",
      "36             14000            545            1137            1455   \n",
      "37             14000            494            1159            1506   \n",
      "38             15000            454            1042            1546   \n",
      "39             15000            461            1072            1539   \n",
      "40             15000            508            1170            1492   \n",
      "\n",
      "   true_negatives  \n",
      "33          10081  \n",
      "34           9921  \n",
      "35          10012  \n",
      "36          10863  \n",
      "37          10841  \n",
      "38          11958  \n",
      "39          11928  \n",
      "40          11830  \n"
     ]
    }
   ],
   "source": [
    "classi = tabela_panda['Classificador'] == 'Ada Boost'\n",
    "print tabela_panda[classi]"
   ]
  },
  {
   "cell_type": "code",
   "execution_count": 35,
   "metadata": {},
   "outputs": [],
   "source": [
    "from ggplot import *\n",
    "\n",
    "p1 = ggplot(tabela_panda, aes(x = 'k',y = 'Accuracy', colour = 'Classificador')) + geom_line()\n",
    "p2 = ggplot(tabela_panda, aes(x = 'k',y = 'Precision', colour = 'Classificador')) + geom_line()\n",
    "p3 = ggplot(tabela_panda, aes(x = 'k',y = 'Recal', colour = 'Classificador')) + geom_line()"
   ]
  },
  {
   "cell_type": "code",
   "execution_count": 36,
   "metadata": {},
   "outputs": [
    {
     "data": {
      "image/png": "[encoded data removed]",
      "text/plain": [
       "<matplotlib.figure.Figure at 0xed7e550>"
      ]
     },
     "metadata": {},
     "output_type": "display_data"
    },
    {
     "data": {
      "text/plain": [
       "<ggplot: (21569445)>"
      ]
     },
     "execution_count": 36,
     "metadata": {},
     "output_type": "execute_result"
    }
   ],
   "source": [
    "p1\n"
   ]
  },
  {
   "cell_type": "code",
   "execution_count": 37,
   "metadata": {},
   "outputs": [
    {
     "data": {
      "image/png": "[encoded data removed]",
      "text/plain": [
       "<matplotlib.figure.Figure at 0x118b4e90>"
      ]
     },
     "metadata": {},
     "output_type": "display_data"
    },
    {
     "data": {
      "text/plain": [
       "<ggplot: (21569459)>"
      ]
     },
     "execution_count": 37,
     "metadata": {},
     "output_type": "execute_result"
    }
   ],
   "source": [
    "p2"
   ]
  },
  {
   "cell_type": "code",
   "execution_count": 38,
   "metadata": {},
   "outputs": [
    {
     "data": {
      "image/png": "[encoded data removed]",
      "text/plain": [
       "<matplotlib.figure.Figure at 0x119d31d0>"
      ]
     },
     "metadata": {},
     "output_type": "display_data"
    },
    {
     "data": {
      "text/plain": [
       "<ggplot: (21569471)>"
      ]
     },
     "execution_count": 38,
     "metadata": {},
     "output_type": "execute_result"
    }
   ],
   "source": [
    "p3"
   ]
  },
  {
   "cell_type": "markdown",
   "metadata": {},
   "source": [
    ">Porém, eu não encontrei uma comparação entre o desempenho pro modelo final escolhido entre ele trabalhando com o conjunto original de features e o conjunto original + as suas novas features. Poderia adicionar essa comparação?\n",
    "\n",
    "Novamente, idéia boa, porém não faz parte do escopo. Segue:"
   ]
  },
  {
   "cell_type": "code",
   "execution_count": 40,
   "metadata": {
    "collapsed": true
   },
   "outputs": [],
   "source": [
    "# teste com as features criadas\n",
    "teste_logistic_regression()"
   ]
  },
  {
   "cell_type": "code",
   "execution_count": 41,
   "metadata": {},
   "outputs": [
    {
     "name": "stdout",
     "output_type": "stream",
     "text": [
      "+-------------------+---------------------+\n",
      "|   Classificador   | Logistic Regression |\n",
      "+-------------------+---------------------+\n",
      "|      Accuracy     |    0.832066666667   |\n",
      "+-------------------+---------------------+\n",
      "|     Precision     |    0.380359612725   |\n",
      "+-------------------+---------------------+\n",
      "|       Recal       |        0.4125       |\n",
      "+-------------------+---------------------+\n",
      "|         f1        |    0.395778364116   |\n",
      "+-------------------+---------------------+\n",
      "|         f2        |    0.405644606156   |\n",
      "+-------------------+---------------------+\n",
      "| Total Predictions |        15000        |\n",
      "+-------------------+---------------------+\n",
      "|   true_positives  |         825         |\n",
      "+-------------------+---------------------+\n",
      "|  false Positives  |         1344        |\n",
      "+-------------------+---------------------+\n",
      "|  false Negatives  |         1175        |\n",
      "+-------------------+---------------------+\n",
      "|   true_negatives  |        11656        |\n",
      "+-------------------+---------------------+\n"
     ]
    }
   ],
   "source": [
    "print(tabela_teste)"
   ]
  },
  {
   "cell_type": "code",
   "execution_count": 43,
   "metadata": {
    "collapsed": true
   },
   "outputs": [],
   "source": [
    "# teste sem as features criadas\n",
    "features_list = p5aux.inicia_features_limpo()\n",
    "teste_logistic_regression()"
   ]
  },
  {
   "cell_type": "code",
   "execution_count": 44,
   "metadata": {},
   "outputs": [
    {
     "name": "stdout",
     "output_type": "stream",
     "text": [
      "+-------------------+---------------------+---------------------+\n",
      "|   Classificador   | Logistic Regression | Logistic Regression |\n",
      "+-------------------+---------------------+---------------------+\n",
      "|      Accuracy     |    0.832066666667   |    0.813466666667   |\n",
      "+-------------------+---------------------+---------------------+\n",
      "|     Precision     |    0.380359612725   |    0.314935064935   |\n",
      "+-------------------+---------------------+---------------------+\n",
      "|       Recal       |        0.4125       |        0.3395       |\n",
      "+-------------------+---------------------+---------------------+\n",
      "|         f1        |    0.395778364116   |    0.326756496631   |\n",
      "+-------------------+---------------------+---------------------+\n",
      "|         f2        |    0.405644606156   |    0.334285151635   |\n",
      "+-------------------+---------------------+---------------------+\n",
      "| Total Predictions |        15000        |        15000        |\n",
      "+-------------------+---------------------+---------------------+\n",
      "|   true_positives  |         825         |         679         |\n",
      "+-------------------+---------------------+---------------------+\n",
      "|  false Positives  |         1344        |         1477        |\n",
      "+-------------------+---------------------+---------------------+\n",
      "|  false Negatives  |         1175        |         1321        |\n",
      "+-------------------+---------------------+---------------------+\n",
      "|   true_negatives  |        11656        |        11523        |\n",
      "+-------------------+---------------------+---------------------+\n"
     ]
    }
   ],
   "source": [
    "print(tabela_teste)"
   ]
  },
  {
   "cell_type": "markdown",
   "metadata": {},
   "source": [
    "A primeira coluna mostra o classificador com as features criadas e a segunda sem as features. Nota-se em todos os indicadores a melhora com a criação da feature."
   ]
  },
  {
   "cell_type": "markdown",
   "metadata": {},
   "source": [
    "## Questões\n",
    "\n",
    "\n",
    ">Summarize for us the goal of this project and how machine learning is useful in trying to accomplish it. As part of your answer, give some background on the dataset and how it can be used to answer the project question. Were there any outliers in the data when you got it, and how did you handle those?  [relevant rubric items: “data exploration”, “outlier investigation”]\n",
    "\n",
    "o objetivo deste projeto é no aprendizado de \"machine Learning\" utilizando os dados financeiros e de emails coletados durante a investigação e disponibilizado pelo curso. A partir desses dados construiu-se a partir de algoritimos de marchine learning (ML) um modelo preditivo para identificação de possiveis pessoas envolvidos na fraude, neste estudo simplificado como POI (pearson of Interest).\n",
    "Resumidamente os dados possuem:\n",
    "* 146 dados(linhas), cada linha representando uma pessoa. Foram retirados 2 linhas por ser o TOTAL e um não era uma pessoa.\n",
    "* 18 eram POIs e 128 eram não POI (nPOI)\n",
    "* Cada pessoa possui 21 atributos sendo 14 financeiros, 6 emails e 1 indicando se era POI ou não."
   ]
  },
  {
   "cell_type": "markdown",
   "metadata": {},
   "source": [
    ">What features did you end up using in your POI identifier, and what selection process did you use to pick them? Did you have to do any scaling? Why or why not? As part of the assignment, you should attempt to engineer your own feature that doesn’t come ready-made in the dataset--explain what feature you tried to make, and the rationale behind it. (You do not necessarily have to use it in the final analysis, only engineer and test it.) If you used an algorithm like a decision tree, please also give the feature importances of the features that you use. [relevant rubric items: “create new features”, “properly scale features”, “intelligently select feature”]\n",
    "\n",
    "Inicialmente foram retirados os outliers e retirado o atributo de email, que neste caso nao serve para modelo nenhum. Foram criados duas variáveis 'por_to_poi' e 'por_from_poi' que é a porcentagem de emails que são trocados entre os POIs. Neste caso, acredita-se que os POIs se comunicam com mais frequencia entre os POIs por eles fazerem parte do mesmo grupo de \"criminosos\".\n",
    "Escalonou-se os atributos utilizando o algoritimo Min-max-scaler com o intuito de retirar os pesos dos mesmos. Rodado o algoritimo K-best notou-se que o atributo 'exercised_stock_options' possui a maior influencia no resultado."
   ]
  },
  {
   "cell_type": "markdown",
   "metadata": {},
   "source": [
    ">What algorithm did you end up using? What other one(s) did you try? How did model performance differ between algorithms?  [relevant rubric item: “pick an algorithm”]\n",
    "\n",
    "Foram testados os classificadors ada_boost, logistic Regression, suport vector classifier (SVC), Decision tree e o Random Forrest. Como basicamente o uso desses classificadores possuem a mesma lógica (inicialização e fit), utilizamos juntamente com esses classificadores o algoritimo GridSearch que retorna os melhores parametros para o classificador. O algoritimo Logistic Regression foi escolhido por possuir uma melhor combinação de precisão e recall. \n"
   ]
  },
  {
   "cell_type": "markdown",
   "metadata": {},
   "source": [
    ">What does it mean to tune the parameters of an algorithm, and what can happen if you don’t do this well?  How did you tune the parameters of your particular algorithm? What parameters did you tune? (Some algorithms do not have parameters that you need to tune -- if this is the case for the one you picked, identify and briefly explain how you would have done it for the model that was not your final choice or a different model that does utilize parameter tuning, e.g. a decision tree classifier).  [relevant rubric items: “discuss parameter tuning”, “tune the algorithm”]\n",
    "\n",
    "O processo de ajuste (tunning) é quando se mudam os parametros do algoritimo para melhorar o desempenho de classificação. Um bom ajuste resulta em um melhor desempenho do classificador e uma melhor eficiencia nos resultados. Para ajustar os parametros foram utilizados o algoritmio GridSearchCV que faz inúmeros testes para achar os melhores parametros.\n"
   ]
  },
  {
   "cell_type": "markdown",
   "metadata": {},
   "source": [
    ">What is validation, and what’s a classic mistake you can make if you do it wrong? How did you validate your analysis?  [relevant rubric items: “discuss validation”, “validation strategy”]\n",
    "\n",
    "Validação é o processo que determina a eficiencia do seu algoritimo, utilizado criterios de testes. Foi utilizado o Cross-validation quebrando os dados em 20-30% para testes e o restante para treino do classificador. Para esses testes foi utilizando o tester.py com uma pequena modificação para melhor visualização dos dados. Os algoritimos foram focados mais nos indicador 'recall' e 'precision', uma vez que os dois faziam parte do pré-requisito dos testes. "
   ]
  },
  {
   "cell_type": "markdown",
   "metadata": {},
   "source": [
    ">Give at least 2 evaluation metrics and your average performance for each of them.  Explain an interpretation of your metrics that says something human-understandable about your algorithm’s performance. [relevant rubric item: “usage of evaluation metrics”]\n"
   ]
  },
  {
   "cell_type": "code",
   "execution_count": 81,
   "metadata": {},
   "outputs": [
    {
     "name": "stdout",
     "output_type": "stream",
     "text": [
      "+---------------+---------------------+----------------+\n",
      "| Classificador | Logistic Regression |      SVC       |\n",
      "+---------------+---------------------+----------------+\n",
      "|   Precision   |    0.418767507003   | 0.604651162791 |\n",
      "+---------------+---------------------+----------------+\n"
     ]
    }
   ],
   "source": [
    "print(tabela_teste[1].get_string(fields=[\"Classificador\",\n",
    "                                      \"Logistic Regression\",\n",
    "                                      \"SVC\",\n",
    "                                     ]))\n"
   ]
  },
  {
   "cell_type": "code",
   "execution_count": 82,
   "metadata": {},
   "outputs": [
    {
     "name": "stdout",
     "output_type": "stream",
     "text": [
      "+---------------+---------------------+-------+\n",
      "| Classificador | Logistic Regression |  SVC  |\n",
      "+---------------+---------------------+-------+\n",
      "|     Recal     |        0.4485       | 0.104 |\n",
      "+---------------+---------------------+-------+\n"
     ]
    }
   ],
   "source": [
    "print(tabela_teste[2].get_string(fields=[\"Classificador\",\n",
    "                                      \"Logistic Regression\",\n",
    "                                      \"SVC\",\n",
    "                                     ]))"
   ]
  },
  {
   "cell_type": "markdown",
   "metadata": {},
   "source": [
    "Vamos considerar o classificador SVC que possui um precision alta e um baixo recall, o que significa que o algoritimo tende a penalizar os falsos positivos em uma porcentagem maior que os falsos negativos. Apesar de termos mais certeza que quando o algoritimo classifica a pessoa como POI ser realmente um POI, alguns POIs reais ficarão fora da classificação. Usar um algoritimo com alto recall, ou seja, pessoas que não são POIs serem classificados como POI (false negatives) com mais frequencia pode ocorrer um maior trabalho para os investigadores. Eu iria na teoria de pegar os POIs em menor quantidade mas com qualidade (certeza de ser POI) pois com a delação premiada eles automaticamente entregariam os outros POIs. De acordo com a lei todos são inocentes até que provem ao contrario. Seria mais danoso classificar um inocente como culpado do que escapar um culpado, sendo que esse que escapou poderá ser dedurado pelo os que foram pego.\n"
   ]
  },
  {
   "cell_type": "markdown",
   "metadata": {},
   "source": [
    "## Bibliografia\n",
    "http://aka.ms/vcpython27\n",
    "https://pypi.python.org/pypi/ggplot\n",
    "http://scikit-learn.org/stable/modules/pipeline.html\n",
    "http://jupyter-notebook.readthedocs.io/en/stable/examples/Notebook/Working%20With%20Markdown%20Cells.html\n",
    "https://stackoverflow.com/questions/13208286/how-to-write-latex-in-ipython-notebook\n",
    "http://data-blog.udacity.com/posts/2016/10/latex-primer/\n",
    "http://scikit-learn.org/stable/modules/generated/sklearn.feature_selection.SelectKBest.html\n",
    "https://towardsdatascience.com/pca-using-python-scikit-learn-e653f8989e60\n",
    "https://bugs.python.org/issue26434\n",
    "https://stackoverflow.com/questions/22560768/add-multiple-line-in-python-single-table-cell\n",
    "https://stackoverflow.com/questions/24365655/how-to-get-the-value-of-a-cell-when-using-prettytable\n"
   ]
  },
  {
   "cell_type": "code",
   "execution_count": null,
   "metadata": {
    "collapsed": true
   },
   "outputs": [],
   "source": []
  }
 ],
 "metadata": {
  "kernelspec": {
   "display_name": "Python 2",
   "language": "python",
   "name": "python2"
  },
  "language_info": {
   "codemirror_mode": {
    "name": "ipython",
    "version": 2
   },
   "file_extension": ".py",
   "mimetype": "text/x-python",
   "name": "python",
   "nbconvert_exporter": "python",
   "pygments_lexer": "ipython2",
   "version": "2.7.13"
  }
 },
 "nbformat": 4,
 "nbformat_minor": 2
}
